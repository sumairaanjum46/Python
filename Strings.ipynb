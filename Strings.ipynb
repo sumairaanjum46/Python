{
  "cells": [
    {
      "cell_type": "markdown",
      "metadata": {
        "id": "view-in-github",
        "colab_type": "text"
      },
      "source": [
        "<a href=\"https://colab.research.google.com/github/sumairaanjum46/Python/blob/main/Strings.ipynb\" target=\"_parent\"><img src=\"https://colab.research.google.com/assets/colab-badge.svg\" alt=\"Open In Colab\"/></a>"
      ]
    },
    {
      "cell_type": "code",
      "execution_count": null,
      "metadata": {
        "id": "CTgJlo_s5iDC"
      },
      "outputs": [],
      "source": [
        "# Strings in Python"
      ]
    },
    {
      "cell_type": "code",
      "execution_count": 2,
      "metadata": {
        "id": "atlA9Rpl5iDF"
      },
      "outputs": [],
      "source": [
        "# Adjusting case (upper,lower,capitalize,title,swapcase)\n",
        "\n",
        "line = \"i LoVe coding\""
      ]
    },
    {
      "cell_type": "code",
      "execution_count": 3,
      "metadata": {
        "id": "OnbvqtvD5iDF",
        "outputId": "459ec24d-c42d-40c1-f758-5fad908c28a5",
        "colab": {
          "base_uri": "https://localhost:8080/",
          "height": 35
        }
      },
      "outputs": [
        {
          "output_type": "execute_result",
          "data": {
            "text/plain": [
              "'I LOVE CODING'"
            ],
            "application/vnd.google.colaboratory.intrinsic+json": {
              "type": "string"
            }
          },
          "metadata": {},
          "execution_count": 3
        }
      ],
      "source": [
        "line.upper()"
      ]
    },
    {
      "cell_type": "code",
      "execution_count": 4,
      "metadata": {
        "id": "Ng9_VFxa5iDG",
        "outputId": "41596e7b-ee12-4290-b673-13296f01d8e5",
        "colab": {
          "base_uri": "https://localhost:8080/",
          "height": 35
        }
      },
      "outputs": [
        {
          "output_type": "execute_result",
          "data": {
            "text/plain": [
              "'i love coding'"
            ],
            "application/vnd.google.colaboratory.intrinsic+json": {
              "type": "string"
            }
          },
          "metadata": {},
          "execution_count": 4
        }
      ],
      "source": [
        "line.lower()"
      ]
    },
    {
      "cell_type": "code",
      "execution_count": 5,
      "metadata": {
        "id": "zulTCKvY5iDH",
        "outputId": "7e053209-e548-4780-aed6-384ba8b56acb",
        "colab": {
          "base_uri": "https://localhost:8080/",
          "height": 35
        }
      },
      "outputs": [
        {
          "output_type": "execute_result",
          "data": {
            "text/plain": [
              "'I love coding'"
            ],
            "application/vnd.google.colaboratory.intrinsic+json": {
              "type": "string"
            }
          },
          "metadata": {},
          "execution_count": 5
        }
      ],
      "source": [
        "line.capitalize()"
      ]
    },
    {
      "cell_type": "code",
      "execution_count": 6,
      "metadata": {
        "id": "74efM6Ns5iDH",
        "outputId": "6c806e99-a834-443e-e883-eedbe5f54f19",
        "colab": {
          "base_uri": "https://localhost:8080/",
          "height": 35
        }
      },
      "outputs": [
        {
          "output_type": "execute_result",
          "data": {
            "text/plain": [
              "'I Love Coding'"
            ],
            "application/vnd.google.colaboratory.intrinsic+json": {
              "type": "string"
            }
          },
          "metadata": {},
          "execution_count": 6
        }
      ],
      "source": [
        "line.title()"
      ]
    },
    {
      "cell_type": "code",
      "execution_count": 7,
      "metadata": {
        "id": "jIpkL3Hs5iDH",
        "outputId": "b3e808c0-20ed-414e-8e20-f58483428179",
        "colab": {
          "base_uri": "https://localhost:8080/"
        }
      },
      "outputs": [
        {
          "output_type": "stream",
          "name": "stdout",
          "text": [
            "i LoVe coding\n",
            "\n",
            "I LOVE CODING\n",
            "i love coding\n",
            "I love coding\n",
            "I Love Coding\n"
          ]
        }
      ],
      "source": [
        "print(line)\n",
        "print()\n",
        "print(line.upper())\n",
        "print(line.lower())\n",
        "print(line.capitalize())\n",
        "print(line.title())"
      ]
    },
    {
      "cell_type": "code",
      "execution_count": 8,
      "metadata": {
        "id": "MYBge3Z15iDI"
      },
      "outputs": [],
      "source": [
        "# Removing Spaces (strip,rstrip,lstrip)\n",
        "\n",
        "line = '         this is the content           '"
      ]
    },
    {
      "cell_type": "code",
      "execution_count": 9,
      "metadata": {
        "id": "oBdomBX45iDI",
        "outputId": "a13e66a1-ba8f-46bb-e956-3afa1019b0e7",
        "colab": {
          "base_uri": "https://localhost:8080/"
        }
      },
      "outputs": [
        {
          "output_type": "stream",
          "name": "stdout",
          "text": [
            "         this is the content           \n",
            "this is the content\n"
          ]
        }
      ],
      "source": [
        "print(line)\n",
        "print(line.strip())"
      ]
    },
    {
      "cell_type": "code",
      "execution_count": 10,
      "metadata": {
        "id": "Tt_r4eDT5iDJ",
        "outputId": "ba29b55c-c501-4ca3-dd6c-b746dee837b6",
        "colab": {
          "base_uri": "https://localhost:8080/"
        }
      },
      "outputs": [
        {
          "output_type": "stream",
          "name": "stdout",
          "text": [
            "39\n",
            "19\n"
          ]
        }
      ],
      "source": [
        "print(len(line))\n",
        "print(len(line.strip()))"
      ]
    },
    {
      "cell_type": "code",
      "execution_count": 11,
      "metadata": {
        "id": "Vtif_NY_5iDJ",
        "outputId": "118820cc-3894-4ef6-db70-cd041f0600f6",
        "colab": {
          "base_uri": "https://localhost:8080/"
        }
      },
      "outputs": [
        {
          "output_type": "stream",
          "name": "stdout",
          "text": [
            "         this is the content\n"
          ]
        }
      ],
      "source": [
        "print(line.rstrip())"
      ]
    },
    {
      "cell_type": "code",
      "execution_count": 12,
      "metadata": {
        "id": "Mqrnwgqx5iDJ",
        "outputId": "2db765b6-8ccf-46f0-84a3-7ba7df8d844a",
        "colab": {
          "base_uri": "https://localhost:8080/"
        }
      },
      "outputs": [
        {
          "output_type": "stream",
          "name": "stdout",
          "text": [
            "this is the content           \n"
          ]
        }
      ],
      "source": [
        "print(line.lstrip())"
      ]
    },
    {
      "cell_type": "code",
      "execution_count": 13,
      "metadata": {
        "id": "eBsWSYSK5iDJ"
      },
      "outputs": [],
      "source": [
        "# Adding Spaces (center, ljust, rjust)\n",
        "\n",
        "line = \"this is the content\""
      ]
    },
    {
      "cell_type": "code",
      "execution_count": 14,
      "metadata": {
        "id": "MjcySfw65iDJ",
        "outputId": "621fc381-8bdd-45c7-9eb5-0cf29685bb50",
        "colab": {
          "base_uri": "https://localhost:8080/",
          "height": 35
        }
      },
      "outputs": [
        {
          "output_type": "execute_result",
          "data": {
            "text/plain": [
              "'               this is the content                '"
            ],
            "application/vnd.google.colaboratory.intrinsic+json": {
              "type": "string"
            }
          },
          "metadata": {},
          "execution_count": 14
        }
      ],
      "source": [
        "line.center(50)"
      ]
    },
    {
      "cell_type": "code",
      "execution_count": 15,
      "metadata": {
        "id": "FLn5U-oI5iDK",
        "outputId": "4ce6df65-7f08-4201-e854-418b8200e999",
        "colab": {
          "base_uri": "https://localhost:8080/",
          "height": 35
        }
      },
      "outputs": [
        {
          "output_type": "execute_result",
          "data": {
            "text/plain": [
              "'this is the content           '"
            ],
            "application/vnd.google.colaboratory.intrinsic+json": {
              "type": "string"
            }
          },
          "metadata": {},
          "execution_count": 15
        }
      ],
      "source": [
        "line.ljust(30)"
      ]
    },
    {
      "cell_type": "code",
      "execution_count": 16,
      "metadata": {
        "id": "t9ugADR-5iDK",
        "outputId": "38818cd8-2bc6-452e-81bf-76f7b752825c",
        "colab": {
          "base_uri": "https://localhost:8080/",
          "height": 35
        }
      },
      "outputs": [
        {
          "output_type": "execute_result",
          "data": {
            "text/plain": [
              "'           this is the content'"
            ],
            "application/vnd.google.colaboratory.intrinsic+json": {
              "type": "string"
            }
          },
          "metadata": {},
          "execution_count": 16
        }
      ],
      "source": [
        "line.rjust(30)"
      ]
    },
    {
      "cell_type": "code",
      "execution_count": 17,
      "metadata": {
        "id": "4XSGdj2E5iDK"
      },
      "outputs": [],
      "source": [
        "# Finding Substrings (find,index,rfind,startswith,endswith)\n",
        "\n",
        "line = \"I love data science\""
      ]
    },
    {
      "cell_type": "code",
      "execution_count": 18,
      "metadata": {
        "id": "wzAKjR1e5iDK",
        "outputId": "45cee513-536b-4fa1-94cb-befca4ed0219",
        "colab": {
          "base_uri": "https://localhost:8080/"
        }
      },
      "outputs": [
        {
          "output_type": "execute_result",
          "data": {
            "text/plain": [
              "7"
            ]
          },
          "metadata": {},
          "execution_count": 18
        }
      ],
      "source": [
        "line.find('data')"
      ]
    },
    {
      "cell_type": "code",
      "execution_count": 19,
      "metadata": {
        "id": "KBwzuQBU5iDK",
        "outputId": "57cf1ed8-7a0f-4aab-dc15-5eec85dc055b",
        "colab": {
          "base_uri": "https://localhost:8080/"
        }
      },
      "outputs": [
        {
          "output_type": "execute_result",
          "data": {
            "text/plain": [
              "7"
            ]
          },
          "metadata": {},
          "execution_count": 19
        }
      ],
      "source": [
        "line.index('data')"
      ]
    },
    {
      "cell_type": "code",
      "execution_count": 20,
      "metadata": {
        "id": "-5e3hDSe5iDK",
        "outputId": "39f649aa-ee3e-415c-9974-abbd69847c7c",
        "colab": {
          "base_uri": "https://localhost:8080/"
        }
      },
      "outputs": [
        {
          "output_type": "execute_result",
          "data": {
            "text/plain": [
              "-1"
            ]
          },
          "metadata": {},
          "execution_count": 20
        }
      ],
      "source": [
        "line.find('python')"
      ]
    },
    {
      "cell_type": "code",
      "execution_count": 21,
      "metadata": {
        "id": "--a62ibs5iDL",
        "outputId": "f94e28ce-59ae-4cb8-9702-0ae8389a7ad3",
        "colab": {
          "base_uri": "https://localhost:8080/",
          "height": 141
        }
      },
      "outputs": [
        {
          "output_type": "error",
          "ename": "ValueError",
          "evalue": "substring not found",
          "traceback": [
            "\u001b[0;31m---------------------------------------------------------------------------\u001b[0m",
            "\u001b[0;31mValueError\u001b[0m                                Traceback (most recent call last)",
            "\u001b[0;32m<ipython-input-21-5dcd43412d4d>\u001b[0m in \u001b[0;36m<cell line: 1>\u001b[0;34m()\u001b[0m\n\u001b[0;32m----> 1\u001b[0;31m \u001b[0mline\u001b[0m\u001b[0;34m.\u001b[0m\u001b[0mindex\u001b[0m\u001b[0;34m(\u001b[0m\u001b[0;34m'python'\u001b[0m\u001b[0;34m)\u001b[0m\u001b[0;34m\u001b[0m\u001b[0;34m\u001b[0m\u001b[0m\n\u001b[0m",
            "\u001b[0;31mValueError\u001b[0m: substring not found"
          ]
        }
      ],
      "source": [
        "line.index('python')"
      ]
    },
    {
      "cell_type": "code",
      "execution_count": 22,
      "metadata": {
        "id": "JatVrzUA5iDL",
        "outputId": "de16d9f3-5f52-4d45-c8b6-fb10813c4fa5",
        "colab": {
          "base_uri": "https://localhost:8080/"
        }
      },
      "outputs": [
        {
          "output_type": "execute_result",
          "data": {
            "text/plain": [
              "False"
            ]
          },
          "metadata": {},
          "execution_count": 22
        }
      ],
      "source": [
        "line.startswith('Me')"
      ]
    },
    {
      "cell_type": "code",
      "execution_count": 23,
      "metadata": {
        "id": "2zoATuzM5iDL",
        "outputId": "41831722-c150-4495-e4ee-39fe2aeeb27c",
        "colab": {
          "base_uri": "https://localhost:8080/"
        }
      },
      "outputs": [
        {
          "output_type": "execute_result",
          "data": {
            "text/plain": [
              "False"
            ]
          },
          "metadata": {},
          "execution_count": 23
        }
      ],
      "source": [
        "line.endswith('python')"
      ]
    },
    {
      "cell_type": "code",
      "execution_count": 24,
      "metadata": {
        "id": "pUxYG7-05iDO",
        "outputId": "91d6e406-def7-4eb1-dcfe-6a698039ab10",
        "colab": {
          "base_uri": "https://localhost:8080/",
          "height": 35
        }
      },
      "outputs": [
        {
          "output_type": "execute_result",
          "data": {
            "text/plain": [
              "'i love coding'"
            ],
            "application/vnd.google.colaboratory.intrinsic+json": {
              "type": "string"
            }
          },
          "metadata": {},
          "execution_count": 24
        }
      ],
      "source": [
        "# Replacing Strings (replace)\n",
        "line = 'i love data science'\n",
        "line.replace('data science', 'coding')"
      ]
    },
    {
      "cell_type": "code",
      "execution_count": 25,
      "metadata": {
        "id": "FtQkUdMP5iDO",
        "outputId": "bfdbbedc-211f-4d8f-c232-c77eaef646c2",
        "colab": {
          "base_uri": "https://localhost:8080/",
          "height": 35
        }
      },
      "outputs": [
        {
          "output_type": "execute_result",
          "data": {
            "text/plain": [
              "'i love d--t-- science'"
            ],
            "application/vnd.google.colaboratory.intrinsic+json": {
              "type": "string"
            }
          },
          "metadata": {},
          "execution_count": 25
        }
      ],
      "source": [
        "line.replace('a','--')"
      ]
    },
    {
      "cell_type": "code",
      "execution_count": 26,
      "metadata": {
        "id": "tRtyzLAR5iDP",
        "outputId": "c0e5e3a1-5e68-4612-f8b1-c1fae608b61c",
        "colab": {
          "base_uri": "https://localhost:8080/"
        }
      },
      "outputs": [
        {
          "output_type": "stream",
          "name": "stdout",
          "text": [
            "i love data science\n",
            "i love coding\n"
          ]
        }
      ],
      "source": [
        "new_line = line.replace('data science', 'coding')\n",
        "print(line)\n",
        "print(new_line)"
      ]
    },
    {
      "cell_type": "code",
      "execution_count": 27,
      "metadata": {
        "id": "bdafmXNo5iDP",
        "outputId": "7c7e3691-0a85-4571-c536-d8f6ea18de26",
        "colab": {
          "base_uri": "https://localhost:8080/"
        }
      },
      "outputs": [
        {
          "output_type": "execute_result",
          "data": {
            "text/plain": [
              "('i love ', 'data', ' science')"
            ]
          },
          "metadata": {},
          "execution_count": 27
        }
      ],
      "source": [
        "# Partitioning Strings (partition)\n",
        "line.partition('data')"
      ]
    },
    {
      "cell_type": "code",
      "execution_count": 28,
      "metadata": {
        "id": "yfW45jue5iDP",
        "outputId": "7f4d0643-c969-47fa-8072-fc9d888f5863",
        "colab": {
          "base_uri": "https://localhost:8080/"
        }
      },
      "outputs": [
        {
          "output_type": "stream",
          "name": "stdout",
          "text": [
            "['i', 'love', 'data', 'science']\n"
          ]
        }
      ],
      "source": [
        "# Split Strings\n",
        "demo_list = line.split()\n",
        "print(demo_list)"
      ]
    },
    {
      "cell_type": "code",
      "execution_count": 29,
      "metadata": {
        "id": "b_16wpus5iDP",
        "outputId": "0b47dd41-7500-4a05-cfe2-0478cba19c9c",
        "colab": {
          "base_uri": "https://localhost:8080/",
          "height": 35
        }
      },
      "outputs": [
        {
          "output_type": "execute_result",
          "data": {
            "text/plain": [
              "'ii love data sciencelovei love data sciencedatai love data sciencescience'"
            ],
            "application/vnd.google.colaboratory.intrinsic+json": {
              "type": "string"
            }
          },
          "metadata": {},
          "execution_count": 29
        }
      ],
      "source": [
        "line.join(demo_list)"
      ]
    },
    {
      "cell_type": "code",
      "execution_count": 30,
      "metadata": {
        "id": "fk62Mgp05iDQ"
      },
      "outputs": [],
      "source": [
        "random_text = \"\"\" Loren ipsun dolor sit aneta aliqua.,\n",
        "Ut enin ad ut aliquid ex ea connodi consequatur.\n",
        "Quis aute t nulla pariatur.\"\"\""
      ]
    },
    {
      "cell_type": "code",
      "execution_count": 31,
      "metadata": {
        "id": "7RSQdj3Z5iDQ",
        "outputId": "f0c3b9de-d366-4c34-a131-90a7e8137f6d",
        "colab": {
          "base_uri": "https://localhost:8080/"
        }
      },
      "outputs": [
        {
          "output_type": "stream",
          "name": "stdout",
          "text": [
            " Loren ipsun dolor sit aneta aliqua.,\n",
            "Ut enin ad ut aliquid ex ea connodi consequatur.\n",
            "Quis aute t nulla pariatur.\n"
          ]
        }
      ],
      "source": [
        "print(random_text)"
      ]
    },
    {
      "cell_type": "code",
      "execution_count": 32,
      "metadata": {
        "id": "9h8FXgil5iDQ",
        "outputId": "3667ec27-ab20-43fd-f096-db9301e7fc6d",
        "colab": {
          "base_uri": "https://localhost:8080/"
        }
      },
      "outputs": [
        {
          "output_type": "execute_result",
          "data": {
            "text/plain": [
              "[' Loren ipsun dolor sit aneta aliqua.,',\n",
              " 'Ut enin ad ut aliquid ex ea connodi consequatur.',\n",
              " 'Quis aute t nulla pariatur.']"
            ]
          },
          "metadata": {},
          "execution_count": 32
        }
      ],
      "source": [
        "random_text.splitlines()"
      ]
    },
    {
      "cell_type": "code",
      "execution_count": 33,
      "metadata": {
        "id": "fgE0DrM15iDQ",
        "outputId": "f4de8d2f-e91f-4103-fd33-e67c03862ed3",
        "colab": {
          "base_uri": "https://localhost:8080/",
          "height": 35
        }
      },
      "outputs": [
        {
          "output_type": "execute_result",
          "data": {
            "text/plain": [
              "'The value of pi is 3.14'"
            ],
            "application/vnd.google.colaboratory.intrinsic+json": {
              "type": "string"
            }
          },
          "metadata": {},
          "execution_count": 33
        }
      ],
      "source": [
        "# Format Strings\n",
        "\n",
        "pi = 3.14\n",
        "'The value of pi is ' + str(pi)"
      ]
    },
    {
      "cell_type": "code",
      "execution_count": 34,
      "metadata": {
        "id": "_to128yu5iDR",
        "outputId": "4c937990-2309-4e3b-d242-52cb1a214533",
        "colab": {
          "base_uri": "https://localhost:8080/",
          "height": 35
        }
      },
      "outputs": [
        {
          "output_type": "execute_result",
          "data": {
            "text/plain": [
              "'The value of pi is 3.14'"
            ],
            "application/vnd.google.colaboratory.intrinsic+json": {
              "type": "string"
            }
          },
          "metadata": {},
          "execution_count": 34
        }
      ],
      "source": [
        "'The value of pi is {}'.format(pi)"
      ]
    },
    {
      "cell_type": "code",
      "execution_count": 35,
      "metadata": {
        "id": "ql4NlJtV5iDR",
        "outputId": "c59d4e78-71f4-4486-989f-cd5663b105f7",
        "colab": {
          "base_uri": "https://localhost:8080/",
          "height": 35
        }
      },
      "outputs": [
        {
          "output_type": "execute_result",
          "data": {
            "text/plain": [
              "'My name is Sumaira. I am working as a Data Scientist.'"
            ],
            "application/vnd.google.colaboratory.intrinsic+json": {
              "type": "string"
            }
          },
          "metadata": {},
          "execution_count": 35
        }
      ],
      "source": [
        "\"My name is {0}. I am working as a {1}.\".format('Sumaira','Data Scientist')"
      ]
    },
    {
      "cell_type": "code",
      "execution_count": 36,
      "metadata": {
        "id": "RAnowKPw5iDR",
        "outputId": "426fe259-7c7d-4e59-db8a-d00f5bcd87f6",
        "colab": {
          "base_uri": "https://localhost:8080/",
          "height": 35
        }
      },
      "outputs": [
        {
          "output_type": "execute_result",
          "data": {
            "text/plain": [
              "'My name is Data Scientist. I am working as a Sumaira.'"
            ],
            "application/vnd.google.colaboratory.intrinsic+json": {
              "type": "string"
            }
          },
          "metadata": {},
          "execution_count": 36
        }
      ],
      "source": [
        "\"My name is {0}. I am working as a {1}.\".format('Data Scientist','Sumaira')"
      ]
    },
    {
      "cell_type": "code",
      "execution_count": 37,
      "metadata": {
        "id": "GAx8pJ2a5iDS",
        "outputId": "a22314d4-1d01-49dc-ee6d-70a86cd3945d",
        "colab": {
          "base_uri": "https://localhost:8080/",
          "height": 35
        }
      },
      "outputs": [
        {
          "output_type": "execute_result",
          "data": {
            "text/plain": [
              "'My name is Sumaira. I am working as a Data Scientist. I live in Hyderabad'"
            ],
            "application/vnd.google.colaboratory.intrinsic+json": {
              "type": "string"
            }
          },
          "metadata": {},
          "execution_count": 37
        }
      ],
      "source": [
        "\"My name is {name}. I am working as a {job}. I live in {city}\".format(name ='Sumaira',job='Data Scientist',city=\"Hyderabad\")"
      ]
    },
    {
      "cell_type": "code",
      "execution_count": 38,
      "metadata": {
        "id": "3axGQOe55iDS",
        "outputId": "3fd37cb7-be0d-45d1-f53e-2dfea7016228",
        "colab": {
          "base_uri": "https://localhost:8080/"
        }
      },
      "outputs": [
        {
          "output_type": "stream",
          "name": "stdout",
          "text": [
            "My name is Sumaira.\n",
            "I am working as a Data Scientist.\n",
            "I live in Hyderabad\n"
          ]
        }
      ],
      "source": [
        "print(\"\"\"My name is {name}.\n",
        "I am working as a {job}.\n",
        "I live in {city}\"\"\".format(job='Data Scientist',name ='Sumaira',city=\"Hyderabad\"))"
      ]
    },
    {
      "cell_type": "code",
      "execution_count": 39,
      "metadata": {
        "id": "qyxZn8Ra5iDY"
      },
      "outputs": [],
      "source": [
        "line = 'i love data science'"
      ]
    },
    {
      "cell_type": "code",
      "execution_count": 40,
      "metadata": {
        "id": "6HOYeRYQ5iDZ",
        "outputId": "a3872453-c363-41fa-e613-9363461824c8",
        "colab": {
          "base_uri": "https://localhost:8080/"
        }
      },
      "outputs": [
        {
          "output_type": "execute_result",
          "data": {
            "text/plain": [
              "['i', 'love', 'data', 'science']"
            ]
          },
          "metadata": {},
          "execution_count": 40
        }
      ],
      "source": [
        "line.split()"
      ]
    },
    {
      "cell_type": "code",
      "execution_count": 41,
      "metadata": {
        "id": "67ZOqM2o5iDZ",
        "outputId": "7bb32f7c-9c87-4d13-834f-31b2a37f375c",
        "colab": {
          "base_uri": "https://localhost:8080/"
        }
      },
      "outputs": [
        {
          "output_type": "execute_result",
          "data": {
            "text/plain": [
              "['i', 'love', 'data', 'science']"
            ]
          },
          "metadata": {},
          "execution_count": 41
        }
      ],
      "source": [
        "# Regular Expression\n",
        "\n",
        "import re\n",
        "regex = re.compile('\\s+')\n",
        "regex.split(line)"
      ]
    },
    {
      "cell_type": "code",
      "execution_count": 42,
      "metadata": {
        "id": "2XFAC_mB5iDZ",
        "outputId": "43b3106f-f021-4208-9e0c-1feadb73f058",
        "colab": {
          "base_uri": "https://localhost:8080/"
        }
      },
      "outputs": [
        {
          "output_type": "stream",
          "name": "stdout",
          "text": [
            "'    ' It matches\n",
            "'abc   ' It does not match\n",
            "'    abc' It matches\n"
          ]
        }
      ],
      "source": [
        "for s in [\"    \",\"abc   \",\"    abc\"]:\n",
        "    if regex.match(s):\n",
        "        print(repr(s),\"It matches\")\n",
        "    else:\n",
        "        print(repr(s),\"It does not match\")"
      ]
    },
    {
      "cell_type": "code",
      "execution_count": 43,
      "metadata": {
        "id": "p3QNB73l5iDZ",
        "outputId": "46bff5e7-7575-4c9e-b4d3-bee5ad4b8594",
        "colab": {
          "base_uri": "https://localhost:8080/",
          "height": 52
        }
      },
      "outputs": [
        {
          "output_type": "stream",
          "name": "stdout",
          "text": [
            "Hello World!\n"
          ]
        },
        {
          "output_type": "execute_result",
          "data": {
            "text/plain": [
              "\"'Hello World'\""
            ],
            "application/vnd.google.colaboratory.intrinsic+json": {
              "type": "string"
            }
          },
          "metadata": {},
          "execution_count": 43
        }
      ],
      "source": [
        "print(\"Hello World!\")\n",
        "repr(\"Hello World\")"
      ]
    },
    {
      "cell_type": "code",
      "execution_count": 44,
      "metadata": {
        "id": "FVqi1dYE5iDZ",
        "outputId": "88e695f8-6d83-448a-a71a-15f98224c047",
        "colab": {
          "base_uri": "https://localhost:8080/"
        }
      },
      "outputs": [
        {
          "output_type": "execute_result",
          "data": {
            "text/plain": [
              "7"
            ]
          },
          "metadata": {},
          "execution_count": 44
        }
      ],
      "source": [
        "line.index('data')"
      ]
    },
    {
      "cell_type": "code",
      "execution_count": 45,
      "metadata": {
        "id": "HyIjKYQR5iDa",
        "outputId": "0aca54da-45d4-43b3-bc95-6bd0512204b1",
        "colab": {
          "base_uri": "https://localhost:8080/"
        }
      },
      "outputs": [
        {
          "output_type": "execute_result",
          "data": {
            "text/plain": [
              "7"
            ]
          },
          "metadata": {},
          "execution_count": 45
        }
      ],
      "source": [
        "regex = re.compile('data')\n",
        "match = regex.search(line)\n",
        "match.start()"
      ]
    },
    {
      "cell_type": "code",
      "execution_count": 46,
      "metadata": {
        "id": "O4BiNi9i5iDa",
        "outputId": "4c96c235-6a98-4652-af61-cc9522e32ffc",
        "colab": {
          "base_uri": "https://localhost:8080/",
          "height": 35
        }
      },
      "outputs": [
        {
          "output_type": "execute_result",
          "data": {
            "text/plain": [
              "'i love Coding'"
            ],
            "application/vnd.google.colaboratory.intrinsic+json": {
              "type": "string"
            }
          },
          "metadata": {},
          "execution_count": 46
        }
      ],
      "source": [
        "line.replace('data science', 'Coding')"
      ]
    },
    {
      "cell_type": "code",
      "execution_count": 47,
      "metadata": {
        "id": "BUhD6TOr5iDa",
        "outputId": "c12f0095-4f17-436e-acc8-fd8e15d14b21",
        "colab": {
          "base_uri": "https://localhost:8080/",
          "height": 35
        }
      },
      "outputs": [
        {
          "output_type": "execute_result",
          "data": {
            "text/plain": [
              "'i love Coding'"
            ],
            "application/vnd.google.colaboratory.intrinsic+json": {
              "type": "string"
            }
          },
          "metadata": {},
          "execution_count": 47
        }
      ],
      "source": [
        "regex = re.compile('data science')\n",
        "regex.sub('Coding',line)"
      ]
    },
    {
      "cell_type": "code",
      "execution_count": 48,
      "metadata": {
        "id": "zVoCcKhF5iDb",
        "outputId": "ece6580d-6bef-4d03-edde-e453203527a2",
        "colab": {
          "base_uri": "https://localhost:8080/"
        }
      },
      "outputs": [
        {
          "output_type": "stream",
          "name": "stdout",
          "text": [
            "a\tb\tc\n"
          ]
        }
      ],
      "source": [
        "# raw string\n",
        "print('a\\tb\\tc')\n"
      ]
    },
    {
      "cell_type": "code",
      "execution_count": 49,
      "metadata": {
        "id": "ZneQNvEF5iDb",
        "outputId": "9f902307-544b-4be8-b562-ae73c81495ac",
        "colab": {
          "base_uri": "https://localhost:8080/"
        }
      },
      "outputs": [
        {
          "output_type": "stream",
          "name": "stdout",
          "text": [
            "a\\tb\\tc\n"
          ]
        }
      ],
      "source": [
        "print(r'a\\tb\\tc')"
      ]
    }
  ],
  "metadata": {
    "kernelspec": {
      "display_name": "Python 3",
      "language": "python",
      "name": "python3"
    },
    "language_info": {
      "codemirror_mode": {
        "name": "ipython",
        "version": 3
      },
      "file_extension": ".py",
      "mimetype": "text/x-python",
      "name": "python",
      "nbconvert_exporter": "python",
      "pygments_lexer": "ipython3",
      "version": "3.9.6"
    },
    "orig_nbformat": 4,
    "colab": {
      "provenance": [],
      "include_colab_link": true
    }
  },
  "nbformat": 4,
  "nbformat_minor": 0
}