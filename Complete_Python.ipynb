{
  "cells": [
    {
      "cell_type": "markdown",
      "metadata": {
        "id": "view-in-github",
        "colab_type": "text"
      },
      "source": [
        "<a href=\"https://colab.research.google.com/github/sumairaanjum46/Python/blob/main/Complete_Python.ipynb\" target=\"_parent\"><img src=\"https://colab.research.google.com/assets/colab-badge.svg\" alt=\"Open In Colab\"/></a>"
      ]
    },
    {
      "cell_type": "code",
      "execution_count": null,
      "metadata": {
        "id": "Z8e2PtikvxWt"
      },
      "outputs": [],
      "source": [
        "name = \"Sumaira Anjum\""
      ]
    },
    {
      "cell_type": "code",
      "execution_count": null,
      "metadata": {
        "id": "tFhDe29dvxWu"
      },
      "outputs": [],
      "source": [
        "2 + 2"
      ]
    },
    {
      "cell_type": "code",
      "execution_count": null,
      "metadata": {
        "id": "ltMKJ6ezvxWu"
      },
      "outputs": [],
      "source": [
        "10"
      ]
    },
    {
      "cell_type": "code",
      "execution_count": null,
      "metadata": {
        "id": "cV73fY-CvxWu"
      },
      "outputs": [],
      "source": [
        "5 / 2"
      ]
    },
    {
      "cell_type": "code",
      "execution_count": null,
      "metadata": {
        "id": "RxqoVMJ1vxWu"
      },
      "outputs": [],
      "source": [
        "5 // 2"
      ]
    },
    {
      "cell_type": "code",
      "execution_count": null,
      "metadata": {
        "id": "876sLXFOvxWv"
      },
      "outputs": [],
      "source": [
        "2 ** 2"
      ]
    },
    {
      "cell_type": "code",
      "execution_count": null,
      "metadata": {
        "id": "c1KoWzNavxWv"
      },
      "outputs": [],
      "source": [
        "2 ** 3"
      ]
    },
    {
      "cell_type": "code",
      "execution_count": null,
      "metadata": {
        "id": "SHqH4L7fvxWv"
      },
      "outputs": [],
      "source": [
        "2 ** 4"
      ]
    },
    {
      "cell_type": "code",
      "execution_count": null,
      "metadata": {
        "id": "Bin8p5GuvxWv"
      },
      "outputs": [],
      "source": [
        "2 * 3"
      ]
    },
    {
      "cell_type": "code",
      "execution_count": null,
      "metadata": {
        "id": "9_etdxZAvxWv"
      },
      "outputs": [],
      "source": [
        "1 + 2 * 3"
      ]
    },
    {
      "cell_type": "code",
      "execution_count": null,
      "metadata": {
        "id": "r_wFttA3vxWv"
      },
      "outputs": [],
      "source": [
        "(1 + 2 ) * 3"
      ]
    },
    {
      "cell_type": "code",
      "execution_count": null,
      "metadata": {
        "id": "4kjoyKdivxWv"
      },
      "outputs": [],
      "source": [
        "10"
      ]
    },
    {
      "cell_type": "code",
      "execution_count": null,
      "metadata": {
        "id": "quULmRi5vxWv"
      },
      "outputs": [],
      "source": [
        "type(10)"
      ]
    },
    {
      "cell_type": "code",
      "execution_count": null,
      "metadata": {
        "id": "heweNhUFvxWv"
      },
      "outputs": [],
      "source": [
        "type(10.5)"
      ]
    },
    {
      "cell_type": "code",
      "execution_count": null,
      "metadata": {
        "id": "Djo9QKkuvxWv"
      },
      "outputs": [],
      "source": [
        "type('Hello')"
      ]
    },
    {
      "cell_type": "code",
      "execution_count": null,
      "metadata": {
        "id": "CBW5G4A9vxWv"
      },
      "outputs": [],
      "source": [
        "type('100')"
      ]
    },
    {
      "cell_type": "code",
      "execution_count": null,
      "metadata": {
        "id": "VRI246FmvxWw"
      },
      "outputs": [],
      "source": [
        "'Hello world'"
      ]
    },
    {
      "cell_type": "code",
      "execution_count": null,
      "metadata": {
        "id": "2ZFESqaevxWw"
      },
      "outputs": [],
      "source": [
        "'Hello world'"
      ]
    },
    {
      "cell_type": "code",
      "execution_count": null,
      "metadata": {
        "id": "St4Xya_5vxWw"
      },
      "outputs": [],
      "source": [
        "10 + 10"
      ]
    },
    {
      "cell_type": "code",
      "execution_count": null,
      "metadata": {
        "id": "Q_pyCAWavxWw"
      },
      "outputs": [],
      "source": [
        "10 + 20.5"
      ]
    },
    {
      "cell_type": "code",
      "execution_count": null,
      "metadata": {
        "id": "yzHYn4SqvxWw"
      },
      "outputs": [],
      "source": [
        "# concatenation\n",
        "\n",
        "'hello' + ' world'"
      ]
    },
    {
      "cell_type": "code",
      "execution_count": null,
      "metadata": {
        "id": "kWmgGysivxWw"
      },
      "outputs": [],
      "source": [
        "'hello' * 5"
      ]
    },
    {
      "cell_type": "code",
      "execution_count": null,
      "metadata": {
        "id": "yPMlPvNUvxWw"
      },
      "outputs": [],
      "source": [
        "'hello' + 5"
      ]
    },
    {
      "cell_type": "code",
      "execution_count": null,
      "metadata": {
        "id": "pnGmN8LBvxWw"
      },
      "outputs": [],
      "source": [
        "'hello' + '5'"
      ]
    },
    {
      "cell_type": "code",
      "execution_count": null,
      "metadata": {
        "id": "_5CQPYnEvxWw"
      },
      "outputs": [],
      "source": [
        "'hello' * 'hi'"
      ]
    },
    {
      "cell_type": "code",
      "execution_count": 1,
      "metadata": {
        "id": "z-d9sikAvxWw",
        "colab": {
          "base_uri": "https://localhost:8080/",
          "height": 35
        },
        "outputId": "9febe1d9-1211-42c3-e079-0e8a4f8f4a6a"
      },
      "outputs": [
        {
          "output_type": "execute_result",
          "data": {
            "text/plain": [
              "'SumairaAnjum'"
            ],
            "application/vnd.google.colaboratory.intrinsic+json": {
              "type": "string"
            }
          },
          "metadata": {},
          "execution_count": 1
        }
      ],
      "source": [
        "'Sumaira' + 'Anjum'"
      ]
    },
    {
      "cell_type": "code",
      "execution_count": null,
      "metadata": {
        "id": "thf66U2VvxWw"
      },
      "outputs": [],
      "source": [
        "'Sumaira' * 5"
      ]
    },
    {
      "cell_type": "code",
      "execution_count": null,
      "metadata": {
        "id": "0mumxQ5rvxWw"
      },
      "outputs": [],
      "source": [
        "number = 10"
      ]
    },
    {
      "cell_type": "code",
      "execution_count": null,
      "metadata": {
        "id": "zv_jpOE1vxWw"
      },
      "outputs": [],
      "source": [
        "print(number)"
      ]
    },
    {
      "cell_type": "code",
      "execution_count": null,
      "metadata": {
        "id": "WY1XZ6Q1vxWw"
      },
      "outputs": [],
      "source": [
        "number"
      ]
    },
    {
      "cell_type": "code",
      "execution_count": null,
      "metadata": {
        "id": "1wVB7QCLvxWw"
      },
      "outputs": [],
      "source": [
        "number_2 = 20"
      ]
    },
    {
      "cell_type": "code",
      "execution_count": null,
      "metadata": {
        "id": "WlIO1hCWvxWw"
      },
      "outputs": [],
      "source": [
        "number + number_2"
      ]
    },
    {
      "cell_type": "code",
      "execution_count": null,
      "metadata": {
        "id": "j7Zp5Ur-vxWw"
      },
      "outputs": [],
      "source": [
        "print(name)"
      ]
    },
    {
      "cell_type": "code",
      "execution_count": null,
      "metadata": {
        "id": "UOgLUQD4vxWx"
      },
      "outputs": [],
      "source": [
        "print(\"Sumaira\")"
      ]
    },
    {
      "cell_type": "code",
      "execution_count": null,
      "metadata": {
        "id": "HcF0cK2cvxWx"
      },
      "outputs": [],
      "source": [
        "print(5 + 10)"
      ]
    },
    {
      "cell_type": "code",
      "execution_count": null,
      "metadata": {
        "id": "bS74NYbQvxWx"
      },
      "outputs": [],
      "source": [
        "print(\"what is your name?\")\n",
        "name = input()\n",
        "\n",
        "print(name)"
      ]
    },
    {
      "cell_type": "code",
      "execution_count": null,
      "metadata": {
        "id": "7_iohyFIvxWx"
      },
      "outputs": [],
      "source": [
        "num1 = input(\"enter number 1\") #input function reads the value as an string\n",
        "num2 = input(\"enter number 2\")\n",
        "\n",
        "print(num1 + num2)"
      ]
    },
    {
      "cell_type": "code",
      "execution_count": null,
      "metadata": {
        "id": "vrhlrSk0vxWx"
      },
      "outputs": [],
      "source": [
        "10 + 20"
      ]
    },
    {
      "cell_type": "code",
      "execution_count": null,
      "metadata": {
        "id": "JlFIFksOvxWx"
      },
      "outputs": [],
      "source": [
        "type(num1)"
      ]
    },
    {
      "cell_type": "code",
      "execution_count": null,
      "metadata": {
        "id": "Yj_by0RFvxWx"
      },
      "outputs": [],
      "source": [
        "type(num2)"
      ]
    },
    {
      "cell_type": "code",
      "execution_count": null,
      "metadata": {
        "id": "qWhkSF6SvxWx"
      },
      "outputs": [],
      "source": [
        "int('10')"
      ]
    },
    {
      "cell_type": "code",
      "execution_count": null,
      "metadata": {
        "id": "YWETM4_yvxWx"
      },
      "outputs": [],
      "source": [
        "float(10)"
      ]
    },
    {
      "cell_type": "code",
      "execution_count": null,
      "metadata": {
        "id": "Jx_fk9elvxWx"
      },
      "outputs": [],
      "source": [
        "str(10)"
      ]
    },
    {
      "cell_type": "code",
      "execution_count": null,
      "metadata": {
        "id": "dixFiir-vxWx"
      },
      "outputs": [],
      "source": [
        "num1 = int(input(\"enter number 1\")) #input function reads the value as an string\n",
        "num2 = int(input(\"enter number 2\"))\n",
        "\n",
        "print(num1 + num2)"
      ]
    },
    {
      "cell_type": "code",
      "execution_count": null,
      "metadata": {
        "id": "8etMgUZUvxWx"
      },
      "outputs": [],
      "source": [
        "int(10.95)"
      ]
    },
    {
      "cell_type": "code",
      "execution_count": null,
      "metadata": {
        "id": "JBd7zfHHvxWy"
      },
      "outputs": [],
      "source": [
        "int('200')"
      ]
    },
    {
      "cell_type": "code",
      "execution_count": null,
      "metadata": {
        "id": "K8hp4Y_xvxWy"
      },
      "outputs": [],
      "source": [
        "int('200.20')"
      ]
    },
    {
      "cell_type": "code",
      "execution_count": null,
      "metadata": {
        "id": "00FPEZBvvxWy"
      },
      "outputs": [],
      "source": [
        "int(200.20)"
      ]
    },
    {
      "cell_type": "code",
      "execution_count": null,
      "metadata": {
        "id": "rZqELoFzvxWy"
      },
      "outputs": [],
      "source": [
        "100 == '100'"
      ]
    },
    {
      "cell_type": "code",
      "execution_count": null,
      "metadata": {
        "id": "QzjXtfifvxWy"
      },
      "outputs": [],
      "source": [
        "100 == 100.0"
      ]
    },
    {
      "cell_type": "code",
      "execution_count": null,
      "metadata": {
        "id": "EKioeXlHvxWy"
      },
      "outputs": [],
      "source": [
        "len('Hello')"
      ]
    },
    {
      "cell_type": "code",
      "execution_count": null,
      "metadata": {
        "id": "h5YxAN2FvxWy"
      },
      "outputs": [],
      "source": [
        "len('')"
      ]
    },
    {
      "cell_type": "code",
      "execution_count": null,
      "metadata": {
        "id": "BzltfF7wvxWy"
      },
      "outputs": [],
      "source": [
        "len('  ')"
      ]
    },
    {
      "cell_type": "code",
      "execution_count": null,
      "metadata": {
        "id": "401IAxS9vxWy"
      },
      "outputs": [],
      "source": [
        "var = True"
      ]
    },
    {
      "cell_type": "code",
      "execution_count": null,
      "metadata": {
        "id": "bnKMR8xwvxWy"
      },
      "outputs": [],
      "source": [
        "var"
      ]
    },
    {
      "cell_type": "code",
      "execution_count": null,
      "metadata": {
        "id": "Pr8FgrvcvxWy"
      },
      "outputs": [],
      "source": [
        "True"
      ]
    },
    {
      "cell_type": "code",
      "execution_count": null,
      "metadata": {
        "id": "gbwXQVPAvxWy"
      },
      "outputs": [],
      "source": [
        "true"
      ]
    },
    {
      "cell_type": "code",
      "execution_count": null,
      "metadata": {
        "id": "GXJTmncPvxWy"
      },
      "outputs": [],
      "source": [
        "True = 5"
      ]
    },
    {
      "cell_type": "code",
      "execution_count": null,
      "metadata": {
        "id": "M-rGC6dXvxWy"
      },
      "outputs": [],
      "source": [
        "5 < 10"
      ]
    },
    {
      "cell_type": "code",
      "execution_count": null,
      "metadata": {
        "id": "SXtJ_x9GvxWy"
      },
      "outputs": [],
      "source": [
        "50 < 10"
      ]
    },
    {
      "cell_type": "code",
      "execution_count": null,
      "metadata": {
        "id": "AvrLoPIlvxWz"
      },
      "outputs": [],
      "source": [
        "True and True"
      ]
    },
    {
      "cell_type": "code",
      "execution_count": null,
      "metadata": {
        "id": "IW5Zx6UbvxWz"
      },
      "outputs": [],
      "source": [
        "True and False"
      ]
    },
    {
      "cell_type": "code",
      "execution_count": null,
      "metadata": {
        "id": "kMHCWx4bvxWz"
      },
      "outputs": [],
      "source": [
        "True or False"
      ]
    },
    {
      "cell_type": "code",
      "execution_count": null,
      "metadata": {
        "id": "WD1G59W5vxWz"
      },
      "outputs": [],
      "source": [
        "not False"
      ]
    },
    {
      "cell_type": "code",
      "execution_count": null,
      "metadata": {
        "id": "5SR_RImfvxWz"
      },
      "outputs": [],
      "source": [
        "not True"
      ]
    },
    {
      "cell_type": "code",
      "execution_count": null,
      "metadata": {
        "id": "3Z3MvwdgvxWz"
      },
      "outputs": [],
      "source": [
        "(1 < 2) and (3 < 5)"
      ]
    },
    {
      "cell_type": "code",
      "execution_count": null,
      "metadata": {
        "id": "38_AOmqavxWz"
      },
      "outputs": [],
      "source": [
        "(10 < 5) or (50 > 10)"
      ]
    },
    {
      "cell_type": "code",
      "execution_count": null,
      "metadata": {
        "id": "2Kq93ZO8vxWz"
      },
      "outputs": [],
      "source": [
        "num = 20\n",
        "\n",
        "if num < 10:\n",
        "    print(\"Number is less than 10\")\n",
        "else:\n",
        "    print(\"Not less than 10\")"
      ]
    },
    {
      "cell_type": "code",
      "execution_count": null,
      "metadata": {
        "id": "R3ytI0x-vxWz"
      },
      "outputs": [],
      "source": [
        "num = 20\n",
        "\n",
        "if num < 10:\n",
        "    print(\"Number is less than 10\")\n",
        "else:\n",
        "    print(\"Not less than 10\")"
      ]
    },
    {
      "cell_type": "code",
      "execution_count": null,
      "metadata": {
        "id": "UTj5IzgpvxWz"
      },
      "outputs": [],
      "source": [
        "num = 3\n",
        "if num < 10:\n",
        "    print('less than 10')\n",
        "    if num < 5:\n",
        "        print('less than 5')"
      ]
    },
    {
      "cell_type": "code",
      "execution_count": null,
      "metadata": {
        "id": "22WqQue-vxWz"
      },
      "outputs": [],
      "source": [
        "marks = 85\n",
        "\n",
        "if marks > 90:\n",
        "    print('Grade A')\n",
        "else:\n",
        "    print('Not grade A')"
      ]
    },
    {
      "cell_type": "code",
      "execution_count": null,
      "metadata": {
        "id": "na4vCdZCvxWz"
      },
      "outputs": [],
      "source": [
        "marks  = 55\n",
        "\n",
        "if marks > 90:\n",
        "    print('Grade A')\n",
        "elif marks > 80:\n",
        "    print('Grade B')\n",
        "elif marks > 70:\n",
        "    print('Grade C')\n",
        "elif marks > 60:\n",
        "    print('Grade D')\n",
        "else:\n",
        "    print('Fail')"
      ]
    },
    {
      "cell_type": "code",
      "execution_count": null,
      "metadata": {
        "id": "CeZP7l5KvxWz"
      },
      "outputs": [],
      "source": [
        "marks  = 55\n",
        "\n",
        "if marks > 90:\n",
        "    print('Grade A')\n",
        "if marks > 80:\n",
        "    print('Grade B')\n",
        "if marks > 70:\n",
        "    print('Grade C')\n",
        "if marks > 60:\n",
        "    print('Grade D')\n",
        "else:\n",
        "    print('Fail')"
      ]
    },
    {
      "cell_type": "code",
      "execution_count": null,
      "metadata": {
        "id": "sQeSzY6uvxWz"
      },
      "outputs": [],
      "source": [
        "marks  = 75\n",
        "\n",
        "if marks > 90:\n",
        "    print('Grade A')\n",
        "elif marks > 80:\n",
        "    print('Grade B')\n",
        "elif marks > 60:\n",
        "    print('Grade D')\n",
        "elif marks > 70:\n",
        "    print('Grade C')\n",
        "else:\n",
        "    print('Fail')"
      ]
    },
    {
      "cell_type": "code",
      "execution_count": null,
      "metadata": {
        "id": "RpTA5NrNvxWz"
      },
      "outputs": [],
      "source": [
        "# Here is the code with an 'if' statement\n",
        "\n",
        "value = 0\n",
        "if value < 5:\n",
        "    print(\"Hello World\")\n",
        "    value = value + 1\n",
        "\n",
        "print(\"This is not part of if statement\")"
      ]
    },
    {
      "cell_type": "code",
      "execution_count": null,
      "metadata": {
        "id": "P_ZlZ58VvxWz"
      },
      "outputs": [],
      "source": [
        "print(value)"
      ]
    },
    {
      "cell_type": "code",
      "execution_count": null,
      "metadata": {
        "id": "Z6m11DxGvxWz"
      },
      "outputs": [],
      "source": [
        "# Here is the code with a 'while' statement\n",
        "\n",
        "value = 0\n",
        "\n",
        "while value < 5:\n",
        "    print(str(value) + \" Hello World\")\n",
        "    value = value + 1\n",
        "\n",
        "print(\"This is not part of while loop\")"
      ]
    },
    {
      "cell_type": "code",
      "execution_count": null,
      "metadata": {
        "id": "9mqfxVXYvxW0"
      },
      "outputs": [],
      "source": [
        "# An annoying while Loop\n",
        "\n",
        "name = \" \"\n",
        "\n",
        "while name != 'your name':\n",
        "    print(\"Enter your name\")\n",
        "    name = input()\n",
        "    print(name)\n",
        "print(\"Thank You\")"
      ]
    },
    {
      "cell_type": "code",
      "execution_count": null,
      "metadata": {
        "id": "cu0Fk26WvxW0"
      },
      "outputs": [],
      "source": [
        "# for loop\n",
        "print(\"My name is :\")\n",
        "for i in range(5):\n",
        "    print(\"Sumaira Five times (\" + str(i) + \")\" )"
      ]
    },
    {
      "cell_type": "code",
      "execution_count": null,
      "metadata": {
        "id": "lJnLRSr5vxW0"
      },
      "outputs": [],
      "source": [
        "# equivalent while loop\n",
        "print(\"My name is :\")\n",
        "i = 0\n",
        "while i < 5:\n",
        "    print(\"Sumaira Five times (\" + str(i) + \")\" )\n",
        "    i = i + 1"
      ]
    },
    {
      "cell_type": "code",
      "execution_count": null,
      "metadata": {
        "id": "HbtD88pyvxW0"
      },
      "outputs": [],
      "source": [
        "# range function\n",
        "\n",
        "for i in range(10,16):\n",
        "    print(i)"
      ]
    },
    {
      "cell_type": "code",
      "execution_count": null,
      "metadata": {
        "id": "90anRDFwvxW0"
      },
      "outputs": [],
      "source": [
        "for i in range(5):\n",
        "    print(i)"
      ]
    },
    {
      "cell_type": "code",
      "execution_count": null,
      "metadata": {
        "id": "MWhxDLRjvxW0"
      },
      "outputs": [],
      "source": [
        "for i in range(10,21,2):\n",
        "    print(i)"
      ]
    },
    {
      "cell_type": "code",
      "execution_count": null,
      "metadata": {
        "id": "Ueal0RzevxW0"
      },
      "outputs": [],
      "source": [
        "for i in range(5,-1,-1):\n",
        "    print(i)"
      ]
    },
    {
      "cell_type": "code",
      "execution_count": null,
      "metadata": {
        "id": "AhbCm3gMvxW0"
      },
      "outputs": [],
      "source": [
        "total = 0\n",
        "for num in range(11):\n",
        "    total = total + num\n",
        "print(total)"
      ]
    },
    {
      "cell_type": "code",
      "execution_count": null,
      "metadata": {
        "id": "p_0z-qeOvxW0"
      },
      "outputs": [],
      "source": [
        "# break statement (print even numbers)\n",
        "\n",
        "for n in range(20):\n",
        "    if n % 2 == 0:\n",
        "        print(n,end=\" \")\n"
      ]
    },
    {
      "cell_type": "code",
      "execution_count": null,
      "metadata": {
        "id": "DtYPKbblvxW0"
      },
      "outputs": [],
      "source": [
        "\n",
        "for n in range(20):\n",
        "    if n % 2 == 0:\n",
        "        print(n,end=\" \")\n",
        "    if n == 10:\n",
        "        break"
      ]
    },
    {
      "cell_type": "code",
      "execution_count": null,
      "metadata": {
        "id": "tIrQ9QfzvxW0"
      },
      "outputs": [],
      "source": [
        "for n in range(20):\n",
        "    if n % 2 == 0:\n",
        "        if n == 10:\n",
        "            break\n",
        "        print(n,end=\" \")"
      ]
    },
    {
      "cell_type": "code",
      "execution_count": null,
      "metadata": {
        "id": "C7u-Vg28vxW0"
      },
      "outputs": [],
      "source": []
    },
    {
      "cell_type": "code",
      "execution_count": null,
      "metadata": {
        "id": "AN4L_VdZvxW0"
      },
      "outputs": [],
      "source": [
        "# continue statement\n",
        "for n in range(20):\n",
        "    if n % 2 == 0:\n",
        "        continue\n",
        "    print(n, end=' ')"
      ]
    },
    {
      "cell_type": "code",
      "execution_count": null,
      "metadata": {
        "id": "VgPCleAqvxW0"
      },
      "outputs": [],
      "source": [
        "def hello():\n",
        "    print(\"Hey\")\n",
        "    print(\"Hey There!!\")"
      ]
    },
    {
      "cell_type": "code",
      "execution_count": null,
      "metadata": {
        "id": "vt-gvkd9vxW0"
      },
      "outputs": [],
      "source": [
        "hello()"
      ]
    },
    {
      "cell_type": "code",
      "execution_count": null,
      "metadata": {
        "id": "nj-EbMSxvxW1"
      },
      "outputs": [],
      "source": [
        "def greetings(name):\n",
        "    print(\"Hello \" + name)"
      ]
    },
    {
      "cell_type": "code",
      "execution_count": null,
      "metadata": {
        "id": "FbE_kZz-vxW1"
      },
      "outputs": [],
      "source": [
        "greetings()"
      ]
    },
    {
      "cell_type": "code",
      "execution_count": null,
      "metadata": {
        "id": "q2ZhLEcYvxW1"
      },
      "outputs": [],
      "source": [
        "greetings('Sumaira')"
      ]
    },
    {
      "cell_type": "code",
      "execution_count": null,
      "metadata": {
        "id": "96yPU9N7vxW1"
      },
      "outputs": [],
      "source": [
        "def addition(num_1, num_2):\n",
        "    results = num_1 + num_2\n",
        "    print(results)"
      ]
    },
    {
      "cell_type": "code",
      "execution_count": null,
      "metadata": {
        "id": "TVsyBh_nvxW1"
      },
      "outputs": [],
      "source": [
        "addition(10,20)"
      ]
    },
    {
      "cell_type": "code",
      "execution_count": null,
      "metadata": {
        "id": "7J0b-RzsvxW1"
      },
      "outputs": [],
      "source": [
        "addition(100,500)"
      ]
    },
    {
      "cell_type": "code",
      "execution_count": null,
      "metadata": {
        "id": "ivgs0X67vxW1"
      },
      "outputs": [],
      "source": [
        "# default argument values\n",
        "\n",
        "def fibonacci(N, a=0, b=1):\n",
        "    counter = 0\n",
        "    while counter < N:\n",
        "        a, b = b, a + b\n",
        "        print(a, end=' ')\n",
        "        counter = counter+1"
      ]
    },
    {
      "cell_type": "code",
      "execution_count": null,
      "metadata": {
        "id": "BrhrLkwMvxW1"
      },
      "outputs": [],
      "source": [
        "fibonacci(10)"
      ]
    },
    {
      "cell_type": "code",
      "execution_count": null,
      "metadata": {
        "id": "m0p38XZ-vxW1"
      },
      "outputs": [],
      "source": [
        "fibonacci(10,0,1)"
      ]
    },
    {
      "cell_type": "code",
      "execution_count": null,
      "metadata": {
        "id": "dzsvM9tAvxW1"
      },
      "outputs": [],
      "source": [
        "fibonacci(10,1,2)"
      ]
    },
    {
      "cell_type": "code",
      "execution_count": null,
      "metadata": {
        "id": "LISXScmevxW1"
      },
      "outputs": [],
      "source": [
        "fibonacci(10,b=2,a=1)"
      ]
    },
    {
      "cell_type": "code",
      "execution_count": null,
      "metadata": {
        "id": "_qBdUsOzvxW1"
      },
      "outputs": [],
      "source": [
        "# Return Statement\n",
        "\n",
        "import random\n",
        "\n",
        "def getAnswer(answerNumber):\n",
        "    if answerNumber == 1:\n",
        "        return 'It is certain'\n",
        "    elif answerNumber == 2:\n",
        "        return 'It is decidedly so'\n",
        "    elif answerNumber == 3:\n",
        "        return 'Yes'\n",
        "    elif answerNumber == 4:\n",
        "        return 'Reply hazy try again'\n",
        "    elif answerNumber == 5:\n",
        "        return 'Ask again later'\n",
        "    elif answerNumber == 6:\n",
        "        return 'Concentrate and ask again'\n",
        "    elif answerNumber == 7:\n",
        "        return 'My reply is no'\n",
        "    elif answerNumber == 8:\n",
        "        return 'Outlook not so good'\n",
        "    elif answerNumber == 9:\n",
        "        return 'Very doubtful'"
      ]
    },
    {
      "cell_type": "code",
      "execution_count": null,
      "metadata": {
        "id": "dEjfAo1pvxW1"
      },
      "outputs": [],
      "source": [
        "r = random.randint(1, 9)\n",
        "fortune = getAnswer(r)\n",
        "print(fortune)"
      ]
    },
    {
      "cell_type": "code",
      "execution_count": null,
      "metadata": {
        "id": "WjTQ5WEGvxW1"
      },
      "outputs": [],
      "source": [
        "random.randint(1,100)"
      ]
    },
    {
      "cell_type": "code",
      "execution_count": null,
      "metadata": {
        "id": "zKCISvf8vxW1"
      },
      "outputs": [],
      "source": [
        "def demo(val):\n",
        "    return val,val+1,val+2\n",
        "\n",
        "a,b,c = demo(5)\n",
        "print(a,b,c)"
      ]
    },
    {
      "cell_type": "code",
      "execution_count": null,
      "metadata": {
        "id": "-IfhRViavxW1"
      },
      "outputs": [],
      "source": []
    },
    {
      "cell_type": "code",
      "execution_count": null,
      "metadata": {
        "id": "gQBclmnJvxW1"
      },
      "outputs": [],
      "source": []
    },
    {
      "cell_type": "code",
      "execution_count": null,
      "metadata": {
        "id": "WgJGkNpCvxW1"
      },
      "outputs": [],
      "source": [
        "# Return Statement vs Print Statement\n",
        "\n",
        "def add(a,b):\n",
        "    sum = a + b\n",
        "    return sum\n",
        "\n",
        "def addition(num_1, num_2):\n",
        "    results = num_1 + num_2\n",
        "    print(results)"
      ]
    },
    {
      "cell_type": "code",
      "execution_count": null,
      "metadata": {
        "id": "dA-ajmdMvxW2"
      },
      "outputs": [],
      "source": [
        "add(10,20)"
      ]
    },
    {
      "cell_type": "code",
      "execution_count": null,
      "metadata": {
        "id": "bSWxAAqJvxW2"
      },
      "outputs": [],
      "source": [
        "addition(10,20)"
      ]
    },
    {
      "cell_type": "code",
      "execution_count": null,
      "metadata": {
        "id": "68Dcafu_vxW2"
      },
      "outputs": [],
      "source": [
        "Number = add(10,20)\n",
        "\n",
        "print(Number)"
      ]
    },
    {
      "cell_type": "code",
      "execution_count": null,
      "metadata": {
        "id": "HvwHxz22vxW2"
      },
      "outputs": [],
      "source": [
        "Num = addition(10,20)\n",
        "\n",
        "print(Num)"
      ]
    },
    {
      "cell_type": "code",
      "execution_count": null,
      "metadata": {
        "id": "exgEa4TQvxW2"
      },
      "outputs": [],
      "source": [
        "var = print(\"Hello\")\n",
        "\n",
        "type(var)"
      ]
    },
    {
      "cell_type": "code",
      "execution_count": null,
      "metadata": {
        "id": "LwUBpEYwvxW2"
      },
      "outputs": [],
      "source": [
        "None == var"
      ]
    },
    {
      "cell_type": "code",
      "execution_count": null,
      "metadata": {
        "id": "NVzaQKSovxW2"
      },
      "outputs": [],
      "source": [
        "[1,2,3,4,5]"
      ]
    },
    {
      "cell_type": "code",
      "execution_count": null,
      "metadata": {
        "id": "xvEeQbEovxW2"
      },
      "outputs": [],
      "source": [
        "['Hello',3.14,50,True,10.5]"
      ]
    },
    {
      "cell_type": "code",
      "execution_count": null,
      "metadata": {
        "id": "CUnRxjIqvxW2"
      },
      "outputs": [],
      "source": [
        "backpack = ['laptop', 'pen', 'notebook','books']"
      ]
    },
    {
      "cell_type": "code",
      "execution_count": null,
      "metadata": {
        "id": "72MLLcaqvxW2"
      },
      "outputs": [],
      "source": [
        "print(backpack)"
      ]
    },
    {
      "cell_type": "code",
      "execution_count": null,
      "metadata": {
        "id": "PJfLwIEnvxW2"
      },
      "outputs": [],
      "source": [
        "type(backpack)"
      ]
    },
    {
      "cell_type": "code",
      "execution_count": null,
      "metadata": {
        "id": "zN7uRcozvxW2"
      },
      "outputs": [],
      "source": [
        "print('I have ' + backpack[0])"
      ]
    },
    {
      "cell_type": "code",
      "execution_count": null,
      "metadata": {
        "id": "iLaRnFjFvxW2"
      },
      "outputs": [],
      "source": [
        "backpack[1]"
      ]
    },
    {
      "cell_type": "code",
      "execution_count": null,
      "metadata": {
        "id": "fr3rl6vDvxW2"
      },
      "outputs": [],
      "source": [
        "backpack[3]"
      ]
    },
    {
      "cell_type": "code",
      "execution_count": null,
      "metadata": {
        "id": "HtAlSKaAvxW2"
      },
      "outputs": [],
      "source": [
        "backpack[4]"
      ]
    },
    {
      "cell_type": "code",
      "execution_count": null,
      "metadata": {
        "id": "DFQieWwLvxW2"
      },
      "outputs": [],
      "source": [
        "backpack[1000]"
      ]
    },
    {
      "cell_type": "code",
      "execution_count": null,
      "metadata": {
        "id": "uB_lHJ7dvxW2"
      },
      "outputs": [],
      "source": [
        "len(backpack)"
      ]
    },
    {
      "cell_type": "code",
      "execution_count": null,
      "metadata": {
        "id": "J6qZvm56vxW2"
      },
      "outputs": [],
      "source": [
        "devices = ['laptop',['charger','usb','mouse'],'mobile']"
      ]
    },
    {
      "cell_type": "code",
      "execution_count": null,
      "metadata": {
        "id": "0VPfw3tDvxW3"
      },
      "outputs": [],
      "source": [
        "devices[0]"
      ]
    },
    {
      "cell_type": "code",
      "execution_count": null,
      "metadata": {
        "id": "K-FAKlv_vxW3"
      },
      "outputs": [],
      "source": [
        "len(devices)"
      ]
    },
    {
      "cell_type": "code",
      "execution_count": null,
      "metadata": {
        "id": "zXTZBeGevxW3"
      },
      "outputs": [],
      "source": [
        "devices[2]"
      ]
    },
    {
      "cell_type": "code",
      "execution_count": null,
      "metadata": {
        "id": "964cfUKfvxW3"
      },
      "outputs": [],
      "source": [
        "devices[1]"
      ]
    },
    {
      "cell_type": "code",
      "execution_count": null,
      "metadata": {
        "id": "85cXRVnlvxW3"
      },
      "outputs": [],
      "source": [
        "devices[1][2]"
      ]
    },
    {
      "cell_type": "code",
      "execution_count": null,
      "metadata": {
        "id": "hEPggeQBvxW3"
      },
      "outputs": [],
      "source": [
        "'I have a ' + devices[1][0]"
      ]
    },
    {
      "cell_type": "code",
      "execution_count": null,
      "metadata": {
        "id": "fYD1vI0MvxW3"
      },
      "outputs": [],
      "source": [
        "devices[-1]"
      ]
    },
    {
      "cell_type": "code",
      "execution_count": null,
      "metadata": {
        "id": "YuZzPCGOvxW3"
      },
      "outputs": [],
      "source": [
        "backpack[-1]"
      ]
    },
    {
      "cell_type": "code",
      "execution_count": null,
      "metadata": {
        "id": "0FmJZwlJvxW3"
      },
      "outputs": [],
      "source": [
        "backpack[-2]"
      ]
    },
    {
      "cell_type": "code",
      "execution_count": null,
      "metadata": {
        "id": "D_46Jp3LvxW3"
      },
      "outputs": [],
      "source": [
        "backpack"
      ]
    },
    {
      "cell_type": "code",
      "execution_count": null,
      "metadata": {
        "id": "xn8DbbtwvxW3"
      },
      "outputs": [],
      "source": [
        "devices.append(100)"
      ]
    },
    {
      "cell_type": "code",
      "execution_count": null,
      "metadata": {
        "id": "iPKSYmk4vxW3"
      },
      "outputs": [],
      "source": [
        "devices"
      ]
    },
    {
      "cell_type": "code",
      "execution_count": null,
      "metadata": {
        "id": "3lwzULtlvxW3"
      },
      "outputs": [],
      "source": [
        "devices.insert(0,'demo')"
      ]
    },
    {
      "cell_type": "code",
      "execution_count": null,
      "metadata": {
        "id": "lwuQ707ovxW3"
      },
      "outputs": [],
      "source": [
        "devices"
      ]
    },
    {
      "cell_type": "code",
      "execution_count": null,
      "metadata": {
        "id": "jrh1atlAvxW3"
      },
      "outputs": [],
      "source": [
        "del devices[0]"
      ]
    },
    {
      "cell_type": "code",
      "execution_count": null,
      "metadata": {
        "id": "XziHX2eJvxW3"
      },
      "outputs": [],
      "source": [
        "devices"
      ]
    },
    {
      "cell_type": "code",
      "execution_count": null,
      "metadata": {
        "id": "bzSJMh4nvxW3"
      },
      "outputs": [],
      "source": [
        "del devices[-1]"
      ]
    },
    {
      "cell_type": "code",
      "execution_count": null,
      "metadata": {
        "id": "GlpYz21bvxW3"
      },
      "outputs": [],
      "source": [
        "devices"
      ]
    },
    {
      "cell_type": "code",
      "execution_count": null,
      "metadata": {
        "id": "e2QNu6invxW3"
      },
      "outputs": [],
      "source": [
        "devices.remove('laptop')"
      ]
    },
    {
      "cell_type": "code",
      "execution_count": null,
      "metadata": {
        "id": "W5-vturwvxW4"
      },
      "outputs": [],
      "source": [
        "devices"
      ]
    },
    {
      "cell_type": "code",
      "execution_count": null,
      "metadata": {
        "id": "PW9utDoFvxW4"
      },
      "outputs": [],
      "source": [
        "devices[0].remove('usb')"
      ]
    },
    {
      "cell_type": "code",
      "execution_count": null,
      "metadata": {
        "id": "Q_gJsz8ZvxW4"
      },
      "outputs": [],
      "source": [
        "backpack"
      ]
    },
    {
      "cell_type": "code",
      "execution_count": null,
      "metadata": {
        "id": "KAm07XarvxW4"
      },
      "outputs": [],
      "source": [
        "backpack[1]"
      ]
    },
    {
      "cell_type": "code",
      "execution_count": null,
      "metadata": {
        "id": "hyfGZLHkvxW4"
      },
      "outputs": [],
      "source": [
        "type(backpack[1])"
      ]
    },
    {
      "cell_type": "code",
      "execution_count": null,
      "metadata": {
        "id": "60-ONfpHvxW4"
      },
      "outputs": [],
      "source": [
        "backpack[0:2]"
      ]
    },
    {
      "cell_type": "code",
      "execution_count": null,
      "metadata": {
        "id": "lb20LSP_vxW4"
      },
      "outputs": [],
      "source": [
        "backpack[-1:-2]"
      ]
    },
    {
      "cell_type": "code",
      "execution_count": null,
      "metadata": {
        "id": "q9pdfAzFvxW4"
      },
      "outputs": [],
      "source": [
        "backpack[-1]"
      ]
    },
    {
      "cell_type": "code",
      "execution_count": null,
      "metadata": {
        "id": "22u241nrvxW4"
      },
      "outputs": [],
      "source": [
        "backpack[-3:-1]"
      ]
    },
    {
      "cell_type": "code",
      "execution_count": null,
      "metadata": {
        "id": "T117VuLQvxW4"
      },
      "outputs": [],
      "source": [
        "backpack"
      ]
    },
    {
      "cell_type": "code",
      "execution_count": null,
      "metadata": {
        "id": "S1fhNtjvvxW4"
      },
      "outputs": [],
      "source": [
        "backpack[1] = 'Pencil'"
      ]
    },
    {
      "cell_type": "code",
      "execution_count": null,
      "metadata": {
        "id": "HXA30-pvvxW4"
      },
      "outputs": [],
      "source": [
        "print(backpack)"
      ]
    },
    {
      "cell_type": "code",
      "execution_count": null,
      "metadata": {
        "id": "2Chf8P73vxW4"
      },
      "outputs": [],
      "source": [
        "backpack.append('pen')"
      ]
    },
    {
      "cell_type": "code",
      "execution_count": null,
      "metadata": {
        "id": "7z0SRHHjvxW4"
      },
      "outputs": [],
      "source": [
        "backpack"
      ]
    },
    {
      "cell_type": "code",
      "execution_count": null,
      "metadata": {
        "id": "RL3gEnW6vxW4"
      },
      "outputs": [],
      "source": [
        "backpack.append('water botttle')"
      ]
    },
    {
      "cell_type": "code",
      "execution_count": null,
      "metadata": {
        "id": "4FLjUQ3QvxW4"
      },
      "outputs": [],
      "source": [
        "backpack"
      ]
    },
    {
      "cell_type": "code",
      "execution_count": null,
      "metadata": {
        "id": "K4Vi9gytvxW4"
      },
      "outputs": [],
      "source": [
        "backpack.append(200)"
      ]
    },
    {
      "cell_type": "code",
      "execution_count": null,
      "metadata": {
        "id": "KrWvdWeqvxW5"
      },
      "outputs": [],
      "source": [
        "backpack"
      ]
    },
    {
      "cell_type": "code",
      "execution_count": null,
      "metadata": {
        "id": "s3_MvSOcvxW5"
      },
      "outputs": [],
      "source": [
        "backpack.insert(0,'First element')\n",
        "print(backpack)"
      ]
    },
    {
      "cell_type": "code",
      "execution_count": null,
      "metadata": {
        "id": "tDA445rCvxW5"
      },
      "outputs": [],
      "source": [
        "del backpack[0]\n",
        "backpack"
      ]
    },
    {
      "cell_type": "code",
      "execution_count": null,
      "metadata": {
        "id": "su0hQdwYvxW5"
      },
      "outputs": [],
      "source": [
        "print(backpack)"
      ]
    },
    {
      "cell_type": "code",
      "execution_count": null,
      "metadata": {
        "id": "_P4wcrWUvxW5"
      },
      "outputs": [],
      "source": [
        "del backpack[-1]\n",
        "backpack"
      ]
    },
    {
      "cell_type": "code",
      "execution_count": null,
      "metadata": {
        "id": "WaRReizGvxW5"
      },
      "outputs": [],
      "source": [
        "backpack.remove('laptop')\n",
        "backpack"
      ]
    },
    {
      "cell_type": "code",
      "execution_count": null,
      "metadata": {
        "id": "1xC409JpvxW5"
      },
      "outputs": [],
      "source": [
        "backpack.remove(200)"
      ]
    },
    {
      "cell_type": "code",
      "execution_count": null,
      "metadata": {
        "id": "qhLj2jhwvxW5"
      },
      "outputs": [],
      "source": [
        "print(backpack)"
      ]
    },
    {
      "cell_type": "code",
      "execution_count": null,
      "metadata": {
        "id": "QH9DYq69vxW5"
      },
      "outputs": [],
      "source": [
        "backpack.remove('First element')\n",
        "print(backpack)"
      ]
    },
    {
      "cell_type": "code",
      "execution_count": null,
      "metadata": {
        "id": "VwoHRUaLvxW5"
      },
      "outputs": [],
      "source": [
        "# list concatination\n",
        "\n",
        "[1,2,3] + ['A','B','C']"
      ]
    },
    {
      "cell_type": "code",
      "execution_count": null,
      "metadata": {
        "id": "4BAtZHfUvxW5"
      },
      "outputs": [],
      "source": [
        "# list replication\n",
        "\n",
        "['x','y','z'] * 3"
      ]
    },
    {
      "cell_type": "code",
      "execution_count": null,
      "metadata": {
        "id": "xKQ_5StNvxW5"
      },
      "outputs": [],
      "source": [
        "# in operator\n",
        "\n",
        "'hello' in ['hey','hi','hello']"
      ]
    },
    {
      "cell_type": "code",
      "execution_count": null,
      "metadata": {
        "id": "gPx3rFy8vxW5"
      },
      "outputs": [],
      "source": [
        "# not in operator\n",
        "\n",
        "'cat' not in ['hey','hi','hello']"
      ]
    },
    {
      "cell_type": "code",
      "execution_count": null,
      "metadata": {
        "id": "KZr4ErJ4vxW5"
      },
      "outputs": [],
      "source": [
        "# for loop with list\n",
        "\n",
        "for i in range(4):\n",
        "    print(i,end=' ')"
      ]
    },
    {
      "cell_type": "code",
      "execution_count": null,
      "metadata": {
        "id": "Edggs1fNvxW5"
      },
      "outputs": [],
      "source": [
        "for num in [0,1,2,3]:\n",
        "    print(num,end=' ')"
      ]
    },
    {
      "cell_type": "code",
      "execution_count": null,
      "metadata": {
        "id": "vu8UwLnxvxW5"
      },
      "outputs": [],
      "source": [
        "#multiple assignment\n",
        "\n",
        "pet = ['Big', 'Brown', 'Loud']"
      ]
    },
    {
      "cell_type": "code",
      "execution_count": null,
      "metadata": {
        "id": "3-fknoJvvxW6"
      },
      "outputs": [],
      "source": [
        "size = pet[0]\n",
        "color = pet[1]\n",
        "disposition = pet[2]\n",
        "\n",
        "print(size, color, disposition)"
      ]
    },
    {
      "cell_type": "code",
      "execution_count": null,
      "metadata": {
        "id": "jcslp2ffvxW6"
      },
      "outputs": [],
      "source": [
        "size, color, disposition = pet\n",
        "\n",
        "print(size)"
      ]
    },
    {
      "cell_type": "code",
      "execution_count": null,
      "metadata": {
        "id": "mVejzlySvxW6"
      },
      "outputs": [],
      "source": [
        "size, color, disposition,name = pet"
      ]
    },
    {
      "cell_type": "markdown",
      "metadata": {
        "id": "iz1eC4mcvxW6"
      },
      "source": []
    },
    {
      "cell_type": "code",
      "execution_count": null,
      "metadata": {
        "id": "JtDxeQ8TvxW6"
      },
      "outputs": [],
      "source": [
        "# working with list\n",
        "\n",
        "petName1 = 'Moti'\n",
        "petName2 = 'Sheru'\n",
        "petName3 = 'Badal'\n",
        "petName4 = 'Lucy'\n",
        "petName5 = 'Oreo'\n",
        "petName6 = 'Scooby'"
      ]
    },
    {
      "cell_type": "code",
      "execution_count": null,
      "metadata": {
        "id": "dh5v1WoZvxW7"
      },
      "outputs": [],
      "source": [
        "print('Enter the name of pet 1:')\n",
        "petName1 = input()\n",
        "print('Enter the name of pet 2:')\n",
        "petName2 = input()\n",
        "print('Enter the name of pet 3:')\n",
        "petName3 = input()\n",
        "print('Enter the name of pet 4:')\n",
        "petName4 = input()\n",
        "print('Enter the name of pet 5:')\n",
        "petName5 = input()\n",
        "print('Enter the name of pet 6:')\n",
        "petName6 = input()\n",
        "print('The pet names are:')\n",
        "print(petName1 + ' ' + petName2 + ' ' + petName3 + ' ' + petName4 + ' ' + petName5 + ' ' + petName6)"
      ]
    },
    {
      "cell_type": "code",
      "execution_count": null,
      "metadata": {
        "id": "csaOqQnKvxW7"
      },
      "outputs": [],
      "source": [
        "petNames = []\n",
        "while True:\n",
        "    print('Enter the name of pet ' + str(len(petNames)+1) + ' (Or enter nothing to stop.):')\n",
        "    name = input()\n",
        "    if name == '':\n",
        "        break\n",
        "    petNames = petNames + [name] # list concatenation\n",
        "print('The pet names are:')\n",
        "for name in petNames:\n",
        "    print('  ' + name)"
      ]
    },
    {
      "cell_type": "code",
      "execution_count": null,
      "metadata": {
        "id": "72CNL95zvxW7"
      },
      "outputs": [],
      "source": [
        "print(petNames)"
      ]
    },
    {
      "cell_type": "code",
      "execution_count": null,
      "metadata": {
        "id": "2uLFQEV7vxW7"
      },
      "outputs": [],
      "source": [
        "name = 'Sumaira'"
      ]
    },
    {
      "cell_type": "code",
      "execution_count": null,
      "metadata": {
        "id": "huB7MxJdvxW7"
      },
      "outputs": [],
      "source": [
        "len(name)"
      ]
    },
    {
      "cell_type": "code",
      "execution_count": null,
      "metadata": {
        "id": "mJcUl8DtvxW7"
      },
      "outputs": [],
      "source": [
        "name[0]"
      ]
    },
    {
      "cell_type": "code",
      "execution_count": null,
      "metadata": {
        "id": "bzUlAWfxvxW7"
      },
      "outputs": [],
      "source": [
        "name[-1]"
      ]
    },
    {
      "cell_type": "code",
      "execution_count": null,
      "metadata": {
        "id": "3qJDAkt0vxW7"
      },
      "outputs": [],
      "source": [
        "name[0:4]"
      ]
    },
    {
      "cell_type": "code",
      "execution_count": null,
      "metadata": {
        "id": "raZcBJ6EvxW7"
      },
      "outputs": [],
      "source": [
        "'S' in name"
      ]
    },
    {
      "cell_type": "code",
      "execution_count": null,
      "metadata": {
        "id": "j33YiNN-vxW8"
      },
      "outputs": [],
      "source": [
        "'z' not in name"
      ]
    },
    {
      "cell_type": "code",
      "execution_count": null,
      "metadata": {
        "id": "lPD5ag3IvxW8"
      },
      "outputs": [],
      "source": [
        "for i in name:\n",
        "    print('* * * ' + i + ' * * * ')"
      ]
    },
    {
      "cell_type": "code",
      "execution_count": null,
      "metadata": {
        "id": "HnxYXTAKvxW8"
      },
      "outputs": [],
      "source": [
        "a = [ 1,2,3]\n",
        "\n",
        "a"
      ]
    },
    {
      "cell_type": "code",
      "execution_count": null,
      "metadata": {
        "id": "xfB9zarovxW8"
      },
      "outputs": [],
      "source": [
        "a[1] = 10\n",
        "a"
      ]
    },
    {
      "cell_type": "code",
      "execution_count": null,
      "metadata": {
        "id": "C0vPdc6jvxW8"
      },
      "outputs": [],
      "source": [
        "name[3]"
      ]
    },
    {
      "cell_type": "code",
      "execution_count": null,
      "metadata": {
        "id": "oXdhfYdlvxW8"
      },
      "outputs": [],
      "source": [
        "name[4] = 'i'"
      ]
    },
    {
      "cell_type": "code",
      "execution_count": null,
      "metadata": {
        "id": "xjSU1x1_vxW8"
      },
      "outputs": [],
      "source": [
        "name"
      ]
    },
    {
      "cell_type": "code",
      "execution_count": null,
      "metadata": {
        "id": "7amQYxmyvxW8"
      },
      "outputs": [],
      "source": [
        "new_name = name[0:4] + 'i' + name[5:]\n",
        "print(new_name)"
      ]
    },
    {
      "cell_type": "code",
      "execution_count": null,
      "metadata": {
        "id": "ddx6re4ivxW8"
      },
      "outputs": [],
      "source": [
        "name"
      ]
    },
    {
      "cell_type": "code",
      "execution_count": null,
      "metadata": {
        "id": "KbztrLfmvxW8"
      },
      "outputs": [],
      "source": [
        "name[:4]"
      ]
    },
    {
      "cell_type": "code",
      "execution_count": null,
      "metadata": {
        "id": "KZu00-l1vxW8"
      },
      "outputs": [],
      "source": [
        "name[0:4]"
      ]
    },
    {
      "cell_type": "code",
      "execution_count": null,
      "metadata": {
        "id": "6W4qYMpOvxW8"
      },
      "outputs": [],
      "source": [
        "candies = (10, 20.5, True, 'Hey')"
      ]
    },
    {
      "cell_type": "code",
      "execution_count": null,
      "metadata": {
        "id": "SfjADjnIvxW8"
      },
      "outputs": [],
      "source": [
        "candies"
      ]
    },
    {
      "cell_type": "code",
      "execution_count": null,
      "metadata": {
        "id": "lY4oi3HrvxW8"
      },
      "outputs": [],
      "source": [
        "10 in candies"
      ]
    },
    {
      "cell_type": "code",
      "execution_count": null,
      "metadata": {
        "id": "-4T5W1FbvxW8"
      },
      "outputs": [],
      "source": [
        "20 not in candies"
      ]
    },
    {
      "cell_type": "code",
      "execution_count": null,
      "metadata": {
        "id": "C66piTSqvxW8"
      },
      "outputs": [],
      "source": [
        "candies[0]"
      ]
    },
    {
      "cell_type": "code",
      "execution_count": null,
      "metadata": {
        "id": "wHSvZ0QbvxW8"
      },
      "outputs": [],
      "source": [
        "candies[0:2]"
      ]
    },
    {
      "cell_type": "code",
      "execution_count": null,
      "metadata": {
        "id": "i0e8mAfXvxW8"
      },
      "outputs": [],
      "source": [
        "candies[10]"
      ]
    },
    {
      "cell_type": "code",
      "execution_count": null,
      "metadata": {
        "id": "y38JRAs5vxW8"
      },
      "outputs": [],
      "source": [
        "candies[0] = 1000"
      ]
    },
    {
      "cell_type": "code",
      "execution_count": null,
      "metadata": {
        "id": "-BvM7JQ-vxW9"
      },
      "outputs": [],
      "source": [
        "candies[1.0]"
      ]
    },
    {
      "cell_type": "code",
      "execution_count": null,
      "metadata": {
        "id": "7LmbWj7xvxW9"
      },
      "outputs": [],
      "source": [
        "candies[int(1.0)]"
      ]
    },
    {
      "cell_type": "code",
      "execution_count": null,
      "metadata": {
        "id": "1VovHo8CvxW9"
      },
      "outputs": [],
      "source": [
        "new_candies = list(candies)\n",
        "new_candies"
      ]
    },
    {
      "cell_type": "code",
      "execution_count": null,
      "metadata": {
        "id": "eff3qHlcvxW9"
      },
      "outputs": [],
      "source": [
        "candies"
      ]
    },
    {
      "cell_type": "code",
      "execution_count": null,
      "metadata": {
        "id": "72B66PGtvxW9"
      },
      "outputs": [],
      "source": [
        "print(type(new_candies))\n",
        "new_candies[1] = 200\n",
        "new_candies = tuple(new_candies)\n",
        "print(type(new_candies))"
      ]
    },
    {
      "cell_type": "code",
      "execution_count": null,
      "metadata": {
        "id": "lvqhHZEEvxW9"
      },
      "outputs": [],
      "source": [
        "new_candies"
      ]
    },
    {
      "cell_type": "code",
      "execution_count": null,
      "metadata": {
        "id": "9NexxJ2xvxW9"
      },
      "outputs": [],
      "source": [
        "# Dictionaries\n",
        "myphone = {'brand':'iPhone','Color':'black','name':'iphone 11'}\n",
        "print(myphone)"
      ]
    },
    {
      "cell_type": "code",
      "execution_count": null,
      "metadata": {
        "id": "nWBIFu9WvxW9"
      },
      "outputs": [],
      "source": [
        "myphone['brand']"
      ]
    },
    {
      "cell_type": "code",
      "execution_count": null,
      "metadata": {
        "id": "oeMSqvldvxW9"
      },
      "outputs": [],
      "source": [
        "myphone['price']"
      ]
    },
    {
      "cell_type": "code",
      "execution_count": null,
      "metadata": {
        "id": "IvxJNQxlvxW9"
      },
      "outputs": [],
      "source": [
        "myphone['price'] = 40000"
      ]
    },
    {
      "cell_type": "code",
      "execution_count": null,
      "metadata": {
        "id": "LqgBNU09vxW9"
      },
      "outputs": [],
      "source": [
        "print(myphone)"
      ]
    },
    {
      "cell_type": "code",
      "execution_count": null,
      "metadata": {
        "id": "X_Cm1rBBvxW9"
      },
      "outputs": [],
      "source": [
        "# Dictionaries vs Lists\n",
        "\n",
        "animal1 = ['dog','cat','rat']\n",
        "animal2 = ['rat','dog','cat']\n",
        "\n"
      ]
    },
    {
      "cell_type": "code",
      "execution_count": null,
      "metadata": {
        "id": "IY1iC-5evxW9"
      },
      "outputs": [],
      "source": [
        "animal = {'name':'max','age':4}\n",
        "animal_1 = {'age':4,'name':'max'}\n",
        "\n"
      ]
    },
    {
      "cell_type": "code",
      "execution_count": null,
      "metadata": {
        "id": "HzoR-XNDvxW9"
      },
      "outputs": [],
      "source": [
        "animal1 == animal2"
      ]
    },
    {
      "cell_type": "code",
      "execution_count": null,
      "metadata": {
        "id": "Ni5knuRZvxW9"
      },
      "outputs": [],
      "source": [
        "animal == animal_1"
      ]
    },
    {
      "cell_type": "code",
      "execution_count": null,
      "metadata": {
        "id": "SyioxrXnvxW9"
      },
      "outputs": [],
      "source": [
        "#Dictionary Methods\n",
        "#Value() method\n",
        "\n",
        "print(myphone)\n",
        "for i in myphone.values():\n",
        "    print(i)"
      ]
    },
    {
      "cell_type": "code",
      "execution_count": null,
      "metadata": {
        "id": "S0ewigqQvxW-"
      },
      "outputs": [],
      "source": [
        "#keys() method\n",
        "\n",
        "for n in myphone.keys():\n",
        "    print(n)"
      ]
    },
    {
      "cell_type": "code",
      "execution_count": null,
      "metadata": {
        "id": "QT1y8DDbvxW-"
      },
      "outputs": [],
      "source": [
        "#items() method\n",
        "\n",
        "for j in myphone.items():\n",
        "    print(j)"
      ]
    },
    {
      "cell_type": "code",
      "execution_count": null,
      "metadata": {
        "id": "sBcOhG--vxW-"
      },
      "outputs": [],
      "source": [
        "#in operator\n",
        "\n",
        "'Color' in myphone.keys()"
      ]
    },
    {
      "cell_type": "code",
      "execution_count": null,
      "metadata": {
        "id": "pKIpf5f6vxW-"
      },
      "outputs": [],
      "source": [
        "#not in operator\n",
        "'iphone' not in myphone.values()"
      ]
    },
    {
      "cell_type": "code",
      "execution_count": null,
      "metadata": {
        "id": "FbXC4S9tvxW-"
      },
      "outputs": [],
      "source": [
        "myphone"
      ]
    },
    {
      "cell_type": "code",
      "execution_count": null,
      "metadata": {
        "id": "g6rZPebtvxW-"
      },
      "outputs": [],
      "source": [
        "myphone.keys()"
      ]
    },
    {
      "cell_type": "code",
      "execution_count": null,
      "metadata": {
        "id": "ib7KPaG9vxW-"
      },
      "outputs": [],
      "source": [
        "type(myphone.keys())"
      ]
    },
    {
      "cell_type": "code",
      "execution_count": null,
      "metadata": {
        "id": "ydayyzhnvxW-"
      },
      "outputs": [],
      "source": [
        "list(myphone.keys())"
      ]
    },
    {
      "cell_type": "code",
      "execution_count": null,
      "metadata": {
        "id": "hHF6QEeOvxW-"
      },
      "outputs": [],
      "source": [
        "itmes = list(myphone.items())\n",
        "print(items)"
      ]
    },
    {
      "cell_type": "code",
      "execution_count": null,
      "metadata": {
        "id": "K40ZDHXQvxW-"
      },
      "outputs": [],
      "source": [
        "items[0][1]"
      ]
    },
    {
      "cell_type": "code",
      "execution_count": null,
      "metadata": {
        "id": "mBOrdvYwvxW-"
      },
      "outputs": [],
      "source": [
        "myphone['price'] = 40000"
      ]
    },
    {
      "cell_type": "code",
      "execution_count": null,
      "metadata": {
        "id": "UowH8IomvxW-"
      },
      "outputs": [],
      "source": [
        "myphone"
      ]
    },
    {
      "cell_type": "code",
      "execution_count": null,
      "metadata": {
        "id": "a7M-nXL9vxW-"
      },
      "outputs": [],
      "source": [
        "myphone['price'] = 70000"
      ]
    },
    {
      "cell_type": "code",
      "execution_count": null,
      "metadata": {
        "id": "6hEaCEm5vxW-"
      },
      "outputs": [],
      "source": [
        "myphone"
      ]
    },
    {
      "cell_type": "code",
      "execution_count": 88,
      "metadata": {
        "id": "NrhN3edWvxW-"
      },
      "outputs": [],
      "source": [
        "# Nested Dictionaries\n",
        "\n",
        "allGuests = {'Ankit': {'samosa': 5, 'jalebi': 12},\n",
        "                'Vishal': {'chakli': 3, 'samosa': 2},\n",
        "                'Pranav': {'chiwda': 3, 'oreo': 1}}"
      ]
    },
    {
      "cell_type": "code",
      "execution_count": 89,
      "metadata": {
        "id": "-Vu0SRNfvxW_"
      },
      "outputs": [],
      "source": [
        "def totalBrought(guests, item):\n",
        "    numBrought = 0\n",
        "    for k, v in guests.items():\n",
        "        numBrought = numBrought + v.get(item, 0)\n",
        "    return numBrought"
      ]
    },
    {
      "cell_type": "code",
      "execution_count": null,
      "metadata": {
        "id": "vZ-NJgXJvxW_"
      },
      "outputs": [],
      "source": [
        "for k,v in allGuests.items():\n",
        "    print(k,v)"
      ]
    },
    {
      "cell_type": "code",
      "execution_count": 90,
      "metadata": {
        "id": "hJYnJ_uwvxW_",
        "colab": {
          "base_uri": "https://localhost:8080/"
        },
        "outputId": "79defc52-33bd-4a81-d16d-858d8667b848"
      },
      "outputs": [
        {
          "output_type": "stream",
          "name": "stdout",
          "text": [
            "Number of things being brought:\n",
            " - Chakli         3\n",
            " - Chiwda         3\n",
            " - Cakes          0\n",
            " - Jalebi         12\n",
            " - Oreo           1\n",
            " - Samosa         7\n"
          ]
        }
      ],
      "source": [
        "print('Number of things being brought:')\n",
        "print(' - Chakli         ' + str(totalBrought(allGuests, 'chakli')))\n",
        "print(' - Chiwda         ' + str(totalBrought(allGuests, 'chiwda')))\n",
        "print(' - Cakes          ' + str(totalBrought(allGuests, 'cakes')))\n",
        "print(' - Jalebi         ' + str(totalBrought(allGuests, 'jalebi')))\n",
        "print(' - Oreo           ' + str(totalBrought(allGuests, 'oreo')))\n",
        "print(' - Samosa         ' + str(totalBrought(allGuests, 'samosa')))"
      ]
    },
    {
      "cell_type": "code",
      "execution_count": 75,
      "metadata": {
        "id": "C7boiyo9vxW_"
      },
      "outputs": [],
      "source": [
        "# sets\n",
        "\n",
        "primes = {2, 3, 5, 7}\n",
        "odds = {1, 3, 5, 7, 9}"
      ]
    },
    {
      "cell_type": "code",
      "execution_count": 76,
      "metadata": {
        "id": "mloiPiLUvxW_",
        "colab": {
          "base_uri": "https://localhost:8080/"
        },
        "outputId": "8d5dd56b-6237-416c-870f-f08309a181d2"
      },
      "outputs": [
        {
          "output_type": "stream",
          "name": "stdout",
          "text": [
            "{2, 3, 5, 7}\n",
            "{1, 3, 5, 7, 9}\n"
          ]
        }
      ],
      "source": [
        "print(primes)\n",
        "print(odds)"
      ]
    },
    {
      "cell_type": "code",
      "execution_count": 77,
      "metadata": {
        "id": "U2s2YEDPvxW_",
        "colab": {
          "base_uri": "https://localhost:8080/"
        },
        "outputId": "f5a66caf-640c-46e1-dd4a-fd3ed33c6053"
      },
      "outputs": [
        {
          "output_type": "stream",
          "name": "stdout",
          "text": [
            "<class 'set'>\n",
            "<class 'set'>\n"
          ]
        }
      ],
      "source": [
        "print(type(primes))\n",
        "print(type(odds))"
      ]
    },
    {
      "cell_type": "markdown",
      "metadata": {
        "id": "WfXxvrd8vxXA"
      },
      "source": []
    },
    {
      "cell_type": "code",
      "execution_count": 78,
      "metadata": {
        "id": "E92HkV-ivxXA",
        "colab": {
          "base_uri": "https://localhost:8080/",
          "height": 141
        },
        "outputId": "27c6c2dd-3f65-49f6-af14-c50822206c35"
      },
      "outputs": [
        {
          "output_type": "error",
          "ename": "TypeError",
          "evalue": "'set' object is not subscriptable",
          "traceback": [
            "\u001b[0;31m---------------------------------------------------------------------------\u001b[0m",
            "\u001b[0;31mTypeError\u001b[0m                                 Traceback (most recent call last)",
            "\u001b[0;32m<ipython-input-78-8c51614e1a2d>\u001b[0m in \u001b[0;36m<cell line: 1>\u001b[0;34m()\u001b[0m\n\u001b[0;32m----> 1\u001b[0;31m \u001b[0mprimes\u001b[0m\u001b[0;34m[\u001b[0m\u001b[0;36m0\u001b[0m\u001b[0;34m]\u001b[0m\u001b[0;34m\u001b[0m\u001b[0;34m\u001b[0m\u001b[0m\n\u001b[0m",
            "\u001b[0;31mTypeError\u001b[0m: 'set' object is not subscriptable"
          ]
        }
      ],
      "source": [
        "primes[0]"
      ]
    },
    {
      "cell_type": "code",
      "execution_count": 79,
      "metadata": {
        "id": "THWy56c8vxXA",
        "colab": {
          "base_uri": "https://localhost:8080/",
          "height": 35
        },
        "outputId": "0b01bc47-048f-4158-a51d-5e01e2eea055"
      },
      "outputs": [
        {
          "output_type": "execute_result",
          "data": {
            "text/plain": [
              "'R'"
            ],
            "application/vnd.google.colaboratory.intrinsic+json": {
              "type": "string"
            }
          },
          "metadata": {},
          "execution_count": 79
        }
      ],
      "source": [
        "var = 'Rushikesh'\n",
        "var[0]"
      ]
    },
    {
      "cell_type": "code",
      "execution_count": 81,
      "metadata": {
        "id": "bIKyxoACvxXA",
        "colab": {
          "base_uri": "https://localhost:8080/",
          "height": 158
        },
        "outputId": "b4985f51-c8cd-4e9a-ede4-aeac1131aef3"
      },
      "outputs": [
        {
          "output_type": "error",
          "ename": "TypeError",
          "evalue": "'int' object is not subscriptable",
          "traceback": [
            "\u001b[0;31m---------------------------------------------------------------------------\u001b[0m",
            "\u001b[0;31mTypeError\u001b[0m                                 Traceback (most recent call last)",
            "\u001b[0;32m<ipython-input-81-806ff89d1034>\u001b[0m in \u001b[0;36m<cell line: 2>\u001b[0;34m()\u001b[0m\n\u001b[1;32m      1\u001b[0m \u001b[0mnum\u001b[0m \u001b[0;34m=\u001b[0m \u001b[0;36m10000\u001b[0m\u001b[0;34m\u001b[0m\u001b[0;34m\u001b[0m\u001b[0m\n\u001b[0;32m----> 2\u001b[0;31m \u001b[0mnum\u001b[0m\u001b[0;34m[\u001b[0m\u001b[0;36m0\u001b[0m\u001b[0;34m]\u001b[0m\u001b[0;34m\u001b[0m\u001b[0;34m\u001b[0m\u001b[0m\n\u001b[0m",
            "\u001b[0;31mTypeError\u001b[0m: 'int' object is not subscriptable"
          ]
        }
      ],
      "source": [
        "num = 10000\n",
        "num[0]"
      ]
    },
    {
      "cell_type": "code",
      "execution_count": 82,
      "metadata": {
        "id": "SJiQdOIpvxXA",
        "colab": {
          "base_uri": "https://localhost:8080/"
        },
        "outputId": "789b25c5-3ce3-44f6-a2aa-7413a87ee88d"
      },
      "outputs": [
        {
          "output_type": "stream",
          "name": "stdout",
          "text": [
            "{2, 3, 5, 7}\n",
            "{1, 3, 5, 7, 9}\n"
          ]
        }
      ],
      "source": [
        "print(primes)\n",
        "print(odds)"
      ]
    },
    {
      "cell_type": "code",
      "execution_count": 83,
      "metadata": {
        "id": "68x1FnHWvxXA",
        "colab": {
          "base_uri": "https://localhost:8080/"
        },
        "outputId": "94573d8b-9e84-4832-f2c6-0b9d4299e52d"
      },
      "outputs": [
        {
          "output_type": "execute_result",
          "data": {
            "text/plain": [
              "{1, 2, 3, 5, 7, 9}"
            ]
          },
          "metadata": {},
          "execution_count": 83
        }
      ],
      "source": [
        "# union: items appearing in either\n",
        "\n",
        "primes | odds      # with an operator\n",
        "primes.union(odds) # equivalently with a method"
      ]
    },
    {
      "cell_type": "code",
      "execution_count": 84,
      "metadata": {
        "id": "x0jIRDxIvxXA",
        "colab": {
          "base_uri": "https://localhost:8080/"
        },
        "outputId": "4af0ed25-ab3e-40a4-a0e3-ee0abb9f2634"
      },
      "outputs": [
        {
          "output_type": "execute_result",
          "data": {
            "text/plain": [
              "{3, 5, 7}"
            ]
          },
          "metadata": {},
          "execution_count": 84
        }
      ],
      "source": [
        "# Intersection : items appearing in both\n",
        "\n",
        "primes & odds             # with an operator\n",
        "primes.intersection(odds) # equivalently with a method"
      ]
    },
    {
      "cell_type": "code",
      "execution_count": 85,
      "metadata": {
        "id": "6CSVxw51vxXA",
        "colab": {
          "base_uri": "https://localhost:8080/"
        },
        "outputId": "f58511ba-130e-4c55-a723-1b4e0ba5fde4"
      },
      "outputs": [
        {
          "output_type": "execute_result",
          "data": {
            "text/plain": [
              "{2}"
            ]
          },
          "metadata": {},
          "execution_count": 85
        }
      ],
      "source": [
        "# Difference : items in primes but not in odds\n",
        "\n",
        "primes - odds           # with an operator\n",
        "primes.difference(odds) # equivalently with a method"
      ]
    },
    {
      "cell_type": "code",
      "execution_count": 86,
      "metadata": {
        "id": "IrzEoHocvxXA",
        "colab": {
          "base_uri": "https://localhost:8080/"
        },
        "outputId": "e0cef1d4-5382-4407-dae5-b5ea95bcd566"
      },
      "outputs": [
        {
          "output_type": "execute_result",
          "data": {
            "text/plain": [
              "{1, 2, 9}"
            ]
          },
          "metadata": {},
          "execution_count": 86
        }
      ],
      "source": [
        "# Symmetric difference\n",
        "\n",
        "primes ^ odds                     # with an operator\n",
        "primes.symmetric_difference(odds) # equivalently with a method"
      ]
    },
    {
      "cell_type": "code",
      "execution_count": null,
      "metadata": {
        "id": "nohzI9y5vxXA"
      },
      "outputs": [],
      "source": [
        "L = [1,2,3,4,5,12,3,4,5,1,2,3,4]\n",
        "New_list = set(L)\n",
        "print(New_list)"
      ]
    },
    {
      "cell_type": "code",
      "execution_count": 68,
      "metadata": {
        "id": "1GUO2dFsvxXA",
        "outputId": "b521cd21-f450-4332-8562-d9981c8d4331",
        "colab": {
          "base_uri": "https://localhost:8080/"
        }
      },
      "outputs": [
        {
          "output_type": "stream",
          "name": "stdout",
          "text": [
            "[0, 1, 4, 9, 16, 25, 36, 49, 64, 81, 100]\n"
          ]
        }
      ],
      "source": [
        "# Write a python code to create list of square numbers of first 10 numbers\n",
        "\n",
        "L = []\n",
        "for n in range(11):\n",
        "    L.append(n ** 2)\n",
        "print(L)"
      ]
    },
    {
      "cell_type": "code",
      "execution_count": 67,
      "metadata": {
        "id": "44ilVA3lvxXB",
        "outputId": "e60f78be-ea4e-47b9-90d7-fec6742baa5e",
        "colab": {
          "base_uri": "https://localhost:8080/"
        }
      },
      "outputs": [
        {
          "output_type": "execute_result",
          "data": {
            "text/plain": [
              "[0, 1, 4, 9, 16, 25, 36, 49, 64, 81, 100]"
            ]
          },
          "metadata": {},
          "execution_count": 67
        }
      ],
      "source": [
        "# List Comprehensions\n",
        "\n",
        "[n ** 2 for n in range(11)]"
      ]
    },
    {
      "cell_type": "code",
      "execution_count": 66,
      "metadata": {
        "id": "pJBQQylqvxXB",
        "outputId": "954b43b4-8e26-4872-9d88-de7101eeeb56",
        "colab": {
          "base_uri": "https://localhost:8080/"
        }
      },
      "outputs": [
        {
          "output_type": "stream",
          "name": "stdout",
          "text": [
            "[(0, 0), (0, 1), (0, 2), (1, 0), (1, 1), (1, 2)]\n"
          ]
        }
      ],
      "source": [
        "# Multiple iteration\n",
        "\n",
        "demo = []\n",
        "for i in range(2):\n",
        "    for j in range(3):\n",
        "        demo.append((i,j))\n",
        "print(demo)"
      ]
    },
    {
      "cell_type": "code",
      "execution_count": 65,
      "metadata": {
        "id": "N2eUeLzMvxXB",
        "outputId": "554263ef-bcd1-4967-8f43-75ce3bf37843",
        "colab": {
          "base_uri": "https://localhost:8080/"
        }
      },
      "outputs": [
        {
          "output_type": "execute_result",
          "data": {
            "text/plain": [
              "[(0, 0), (0, 1), (0, 2), (1, 0), (1, 1), (1, 2)]"
            ]
          },
          "metadata": {},
          "execution_count": 65
        }
      ],
      "source": [
        "# list comprehensions\n",
        "\n",
        "[(i,j) for i in range(2) for j in range(3)]"
      ]
    },
    {
      "cell_type": "code",
      "execution_count": 64,
      "metadata": {
        "id": "9jfwLCibvxXB",
        "outputId": "5705642f-1f03-4394-a869-b269cdb12caa",
        "colab": {
          "base_uri": "https://localhost:8080/"
        }
      },
      "outputs": [
        {
          "output_type": "stream",
          "name": "stdout",
          "text": [
            "[0, 3, 6, 9, 12, 15, 18]\n"
          ]
        }
      ],
      "source": [
        "# Condinional on iterator\n",
        "\n",
        "L = []\n",
        "for i in range(20):\n",
        "    if i % 3 == 0:\n",
        "        L.append(i)\n",
        "print(L)"
      ]
    },
    {
      "cell_type": "code",
      "execution_count": 63,
      "metadata": {
        "id": "66yBn8rrvxXB",
        "outputId": "e3d8142d-1d31-4df4-885b-025e8c19749f",
        "colab": {
          "base_uri": "https://localhost:8080/"
        }
      },
      "outputs": [
        {
          "output_type": "execute_result",
          "data": {
            "text/plain": [
              "[0, 3, 6, 9, 12, 15, 18]"
            ]
          },
          "metadata": {},
          "execution_count": 63
        }
      ],
      "source": [
        "# list comprehensions\n",
        "[i for i in range(20) if i % 3 == 0]"
      ]
    },
    {
      "cell_type": "code",
      "execution_count": 62,
      "metadata": {
        "id": "CDDUTUM6vxXB",
        "outputId": "77e34674-dc07-4558-9ab1-7d59860d5ae7",
        "colab": {
          "base_uri": "https://localhost:8080/"
        }
      },
      "outputs": [
        {
          "output_type": "execute_result",
          "data": {
            "text/plain": [
              "{0: 0, 1: 1, 2: 4, 3: 9, 4: 16}"
            ]
          },
          "metadata": {},
          "execution_count": 62
        }
      ],
      "source": [
        "# dictionaries comprehensions\n",
        "\n",
        "{n : n ** 2 for n in range(5)}"
      ]
    },
    {
      "cell_type": "code",
      "execution_count": 61,
      "metadata": {
        "id": "UfP3MfJpvxXC",
        "outputId": "ffc86d21-40e1-43be-c7c6-19700ecf6889",
        "colab": {
          "base_uri": "https://localhost:8080/"
        }
      },
      "outputs": [
        {
          "output_type": "execute_result",
          "data": {
            "text/plain": [
              "{0, 1, 4, 9, 16}"
            ]
          },
          "metadata": {},
          "execution_count": 61
        }
      ],
      "source": [
        "# set comprehensions\n",
        "\n",
        "{ n ** 2 for n in range(5)}"
      ]
    },
    {
      "cell_type": "code",
      "execution_count": 60,
      "metadata": {
        "id": "ycHfcNnsvxXC",
        "outputId": "c35a3179-fdcf-4e4a-8cc1-02644aaae48e",
        "colab": {
          "base_uri": "https://localhost:8080/"
        }
      },
      "outputs": [
        {
          "output_type": "execute_result",
          "data": {
            "text/plain": [
              "[0, 1, 2, 0, 1, 2, 0, 1, 2, 0]"
            ]
          },
          "metadata": {},
          "execution_count": 60
        }
      ],
      "source": [
        "[a % 3 for a in range(10)]"
      ]
    },
    {
      "cell_type": "code",
      "execution_count": 59,
      "metadata": {
        "id": "h_5o7vOHvxXC",
        "outputId": "f1cb3878-bd96-4e35-b3a9-2664fed38f84",
        "colab": {
          "base_uri": "https://localhost:8080/"
        }
      },
      "outputs": [
        {
          "output_type": "execute_result",
          "data": {
            "text/plain": [
              "{0, 1, 2}"
            ]
          },
          "metadata": {},
          "execution_count": 59
        }
      ],
      "source": [
        "{a % 3 for a in range(10)}"
      ]
    },
    {
      "cell_type": "code",
      "execution_count": 58,
      "metadata": {
        "id": "QVgMLLIxvxXC",
        "outputId": "6aac0046-9680-47d6-f6ac-209086847947",
        "colab": {
          "base_uri": "https://localhost:8080/"
        }
      },
      "outputs": [
        {
          "output_type": "execute_result",
          "data": {
            "text/plain": [
              "[0, 1, 2, 3, 4]"
            ]
          },
          "metadata": {},
          "execution_count": 58
        }
      ],
      "source": [
        "[i for i in range(5)]"
      ]
    },
    {
      "cell_type": "code",
      "execution_count": 57,
      "metadata": {
        "id": "nlF6gG0jvxXC",
        "outputId": "005b75da-3ba4-40af-de8c-d6eb62756839",
        "colab": {
          "base_uri": "https://localhost:8080/"
        }
      },
      "outputs": [
        {
          "output_type": "execute_result",
          "data": {
            "text/plain": [
              "<generator object <genexpr> at 0x7e4fc9b09380>"
            ]
          },
          "metadata": {},
          "execution_count": 57
        }
      ],
      "source": [
        "(i for i in range(5))"
      ]
    },
    {
      "cell_type": "code",
      "execution_count": 47,
      "metadata": {
        "id": "kK9KB20SvxXC",
        "outputId": "330a26a7-8bbb-4699-96f7-d53c80f3ca9a",
        "colab": {
          "base_uri": "https://localhost:8080/"
        }
      },
      "outputs": [
        {
          "output_type": "execute_result",
          "data": {
            "text/plain": [
              "[0, 1, 2, 3, 4]"
            ]
          },
          "metadata": {},
          "execution_count": 47
        }
      ],
      "source": [
        "var = (i for i in range(5))\n",
        "\n",
        "new_list = list(var)\n",
        "new_list"
      ]
    },
    {
      "cell_type": "code",
      "execution_count": 46,
      "metadata": {
        "id": "SK4jKcexvxXC",
        "outputId": "b140ffd1-7b07-46b8-eecc-4f2ca845f885",
        "colab": {
          "base_uri": "https://localhost:8080/"
        }
      },
      "outputs": [
        {
          "output_type": "execute_result",
          "data": {
            "text/plain": [
              "[0, 1, 2, 3, 4]"
            ]
          },
          "metadata": {},
          "execution_count": 46
        }
      ],
      "source": [
        "list((i for i in range(5)))"
      ]
    },
    {
      "cell_type": "code",
      "execution_count": 45,
      "metadata": {
        "id": "JSRQECgrvxXC",
        "outputId": "3e1083bd-cbf1-4ccc-f015-82a6ec93faf7",
        "colab": {
          "base_uri": "https://localhost:8080/"
        }
      },
      "outputs": [
        {
          "output_type": "execute_result",
          "data": {
            "text/plain": [
              "(0, 1, 2, 3, 4)"
            ]
          },
          "metadata": {},
          "execution_count": 45
        }
      ],
      "source": [
        "tuple(list((i for i in range(5))))"
      ]
    },
    {
      "cell_type": "code",
      "execution_count": 44,
      "metadata": {
        "id": "3cIXQ9jWvxXC",
        "colab": {
          "base_uri": "https://localhost:8080/"
        },
        "outputId": "d3834b51-f29f-4e80-b945-7a4bf6270cfa"
      },
      "outputs": [
        {
          "output_type": "stream",
          "name": "stdout",
          "text": [
            "0, 1, 2, 3, 4, 5, 6, 7, 8, 9, "
          ]
        }
      ],
      "source": [
        "# Iterators\n",
        "\n",
        "N = 10 ** 12\n",
        "for i in range(N):\n",
        "    if i >= 10: break\n",
        "    print(i, end=', ')"
      ]
    },
    {
      "cell_type": "code",
      "execution_count": 48,
      "metadata": {
        "id": "yNVjH29CvxXC",
        "colab": {
          "base_uri": "https://localhost:8080/"
        },
        "outputId": "3616ee46-c01d-4fa3-ef42-dc372cec78a3"
      },
      "outputs": [
        {
          "output_type": "stream",
          "name": "stdout",
          "text": [
            "0, 1, 2, 3, 4, 5, 6, 7, 8, 9, "
          ]
        }
      ],
      "source": [
        "from itertools import count\n",
        "\n",
        "for i in count():\n",
        "    if i >= 10:\n",
        "        break\n",
        "    print(i, end=', ')"
      ]
    },
    {
      "cell_type": "code",
      "execution_count": 49,
      "metadata": {
        "id": "xWKj82orvxXC",
        "outputId": "87c929bb-bb91-4578-ceff-14c98c7b372d",
        "colab": {
          "base_uri": "https://localhost:8080/"
        }
      },
      "outputs": [
        {
          "output_type": "stream",
          "name": "stdout",
          "text": [
            "0 1 2 3 4 5 6 7 8 9 "
          ]
        }
      ],
      "source": [
        "# Iterators\n",
        "for i in range(10):\n",
        "    print(i, end=' ')"
      ]
    },
    {
      "cell_type": "code",
      "execution_count": 50,
      "metadata": {
        "id": "OGtU8OSpvxXC",
        "outputId": "bef14b40-7a8e-496f-a002-72e72872b248",
        "colab": {
          "base_uri": "https://localhost:8080/"
        }
      },
      "outputs": [
        {
          "output_type": "stream",
          "name": "stdout",
          "text": [
            "3 5 7 9 "
          ]
        }
      ],
      "source": [
        "for n in [2,4,6,8,]:\n",
        "    # do some operation\n",
        "    print(n+1,end=' ')"
      ]
    },
    {
      "cell_type": "code",
      "execution_count": 51,
      "metadata": {
        "id": "fWHkSfQSvxXD",
        "outputId": "30c40f12-9652-42a4-8741-3baf2971f3c8",
        "colab": {
          "base_uri": "https://localhost:8080/"
        }
      },
      "outputs": [
        {
          "output_type": "execute_result",
          "data": {
            "text/plain": [
              "<list_iterator at 0x7e4fc9a8a200>"
            ]
          },
          "metadata": {},
          "execution_count": 51
        }
      ],
      "source": [
        "iter([2,4,6,8,])"
      ]
    },
    {
      "cell_type": "code",
      "execution_count": 52,
      "metadata": {
        "id": "QLqVRYx9vxXD"
      },
      "outputs": [],
      "source": [
        "I = iter([2,4])"
      ]
    },
    {
      "cell_type": "code",
      "execution_count": 53,
      "metadata": {
        "id": "qEGtazCjvxXD",
        "outputId": "8c2a46d8-23f0-4311-e612-2a0773a6ce7a",
        "colab": {
          "base_uri": "https://localhost:8080/"
        }
      },
      "outputs": [
        {
          "output_type": "stream",
          "name": "stdout",
          "text": [
            "2\n"
          ]
        }
      ],
      "source": [
        "print(next(I))"
      ]
    },
    {
      "cell_type": "code",
      "execution_count": 54,
      "metadata": {
        "id": "tAM6MtvnvxXD",
        "outputId": "3c425872-9523-4a01-df9c-2ee4effbb169",
        "colab": {
          "base_uri": "https://localhost:8080/"
        }
      },
      "outputs": [
        {
          "output_type": "execute_result",
          "data": {
            "text/plain": [
              "4"
            ]
          },
          "metadata": {},
          "execution_count": 54
        }
      ],
      "source": [
        "next(I)"
      ]
    },
    {
      "cell_type": "code",
      "execution_count": 55,
      "metadata": {
        "id": "7DlU2flavxXD",
        "outputId": "c5912ba0-a20a-4264-e968-b367fa239944",
        "colab": {
          "base_uri": "https://localhost:8080/",
          "height": 141
        }
      },
      "outputs": [
        {
          "output_type": "error",
          "ename": "StopIteration",
          "evalue": "",
          "traceback": [
            "\u001b[0;31m---------------------------------------------------------------------------\u001b[0m",
            "\u001b[0;31mStopIteration\u001b[0m                             Traceback (most recent call last)",
            "\u001b[0;32m<ipython-input-55-ebc5a6f5e444>\u001b[0m in \u001b[0;36m<cell line: 1>\u001b[0;34m()\u001b[0m\n\u001b[0;32m----> 1\u001b[0;31m \u001b[0mnext\u001b[0m\u001b[0;34m(\u001b[0m\u001b[0mI\u001b[0m\u001b[0;34m)\u001b[0m\u001b[0;34m\u001b[0m\u001b[0;34m\u001b[0m\u001b[0m\n\u001b[0m",
            "\u001b[0;31mStopIteration\u001b[0m: "
          ]
        }
      ],
      "source": [
        "next(I)"
      ]
    },
    {
      "cell_type": "code",
      "execution_count": 56,
      "metadata": {
        "id": "yVxMksdqvxXD",
        "outputId": "8a110a07-f647-4856-b8c5-5b92867bf550",
        "colab": {
          "base_uri": "https://localhost:8080/"
        }
      },
      "outputs": [
        {
          "output_type": "stream",
          "name": "stdout",
          "text": [
            "0 1 2 3 4 5 6 7 8 9 "
          ]
        }
      ],
      "source": [
        "N = 10 ** 12\n",
        "\n",
        "for i in range(N):\n",
        "    if i >= 10:\n",
        "        break\n",
        "    print(i, end=' ')"
      ]
    },
    {
      "cell_type": "markdown",
      "metadata": {
        "id": "7pyz7CyUvxXD"
      },
      "source": []
    },
    {
      "cell_type": "code",
      "execution_count": null,
      "metadata": {
        "id": "8ag1GIrkvxXD",
        "outputId": "289de69a-b489-42c6-8d6b-58bfbb6d7b95"
      },
      "outputs": [
        {
          "name": "stdout",
          "output_type": "stream",
          "text": [
            "0, 1, 2, 3, 4, 5, 6, 7, 8, 9, "
          ]
        }
      ],
      "source": [
        "from itertools import count\n",
        "\n",
        "for i in count():\n",
        "    if i >= 10:\n",
        "        break\n",
        "    print(i, end=', ')"
      ]
    },
    {
      "cell_type": "code",
      "execution_count": null,
      "metadata": {
        "id": "_CWV-Jk5vxXD",
        "outputId": "bab8562e-9305-4ee7-fed2-4b7ebab1a0a0"
      },
      "outputs": [
        {
          "name": "stdout",
          "output_type": "stream",
          "text": [
            "0, 1, 2, 3, 4, 5, 6, 7, 8, 9, "
          ]
        }
      ],
      "source": [
        "from itertools import count\n",
        "\n",
        "for i in count():\n",
        "    if i >= 10: break\n",
        "    print(i, end=', ')"
      ]
    },
    {
      "cell_type": "code",
      "execution_count": null,
      "metadata": {
        "id": "NerY2_oWvxXD",
        "outputId": "abd45ba1-5a9b-463e-b095-8a05bb6ec140"
      },
      "outputs": [
        {
          "name": "stdout",
          "output_type": "stream",
          "text": [
            "['Laptop', 'Pen', 'pencil', 'Notebook', 'Charger']\n"
          ]
        }
      ],
      "source": [
        " # enumerate\n",
        "\n",
        "backpack = ['Laptop', 'Pen', 'pencil', 'Notebook','Charger']\n",
        "print(backpack)\n"
      ]
    },
    {
      "cell_type": "code",
      "execution_count": null,
      "metadata": {
        "id": "DuYABfgcvxXD",
        "outputId": "d02d588d-9415-4568-92a8-0c72af044724"
      },
      "outputs": [
        {
          "name": "stdout",
          "output_type": "stream",
          "text": [
            "Laptop\n",
            "Pen\n",
            "pencil\n",
            "Notebook\n",
            "Charger\n"
          ]
        }
      ],
      "source": [
        "for i in backpack:\n",
        "    print(i)"
      ]
    },
    {
      "cell_type": "code",
      "execution_count": null,
      "metadata": {
        "id": "0yILp8HGvxXD",
        "outputId": "25134372-6326-4cb1-add5-1ad6207d0393"
      },
      "outputs": [
        {
          "name": "stdout",
          "output_type": "stream",
          "text": [
            "0\n",
            "1\n",
            "2\n",
            "3\n",
            "4\n"
          ]
        }
      ],
      "source": [
        "for i in range(len(backpack)):\n",
        "    print(i)"
      ]
    },
    {
      "cell_type": "code",
      "execution_count": 42,
      "metadata": {
        "id": "ub2RwSd7vxXD",
        "outputId": "acf481b8-8998-4aba-de98-5c95a62578eb",
        "colab": {
          "base_uri": "https://localhost:8080/",
          "height": 158
        }
      },
      "outputs": [
        {
          "output_type": "error",
          "ename": "NameError",
          "evalue": "name 'backpack' is not defined",
          "traceback": [
            "\u001b[0;31m---------------------------------------------------------------------------\u001b[0m",
            "\u001b[0;31mNameError\u001b[0m                                 Traceback (most recent call last)",
            "\u001b[0;32m<ipython-input-42-2b0704a6ebdc>\u001b[0m in \u001b[0;36m<cell line: 1>\u001b[0;34m()\u001b[0m\n\u001b[0;32m----> 1\u001b[0;31m \u001b[0;32mfor\u001b[0m \u001b[0mi\u001b[0m \u001b[0;32min\u001b[0m \u001b[0mrange\u001b[0m\u001b[0;34m(\u001b[0m\u001b[0mlen\u001b[0m\u001b[0;34m(\u001b[0m\u001b[0mbackpack\u001b[0m\u001b[0;34m)\u001b[0m\u001b[0;34m)\u001b[0m\u001b[0;34m:\u001b[0m\u001b[0;34m\u001b[0m\u001b[0;34m\u001b[0m\u001b[0m\n\u001b[0m\u001b[1;32m      2\u001b[0m     \u001b[0mprint\u001b[0m\u001b[0;34m(\u001b[0m\u001b[0mi\u001b[0m\u001b[0;34m,\u001b[0m\u001b[0mbackpack\u001b[0m\u001b[0;34m[\u001b[0m\u001b[0mi\u001b[0m\u001b[0;34m]\u001b[0m\u001b[0;34m)\u001b[0m\u001b[0;34m\u001b[0m\u001b[0;34m\u001b[0m\u001b[0m\n",
            "\u001b[0;31mNameError\u001b[0m: name 'backpack' is not defined"
          ]
        }
      ],
      "source": [
        "for i in range(len(backpack)):\n",
        "    print(i,backpack[i])"
      ]
    },
    {
      "cell_type": "code",
      "execution_count": 41,
      "metadata": {
        "id": "LM3bfQi6vxXD",
        "outputId": "b704a1c4-93be-45e9-c344-c2a961752c3d",
        "colab": {
          "base_uri": "https://localhost:8080/",
          "height": 158
        }
      },
      "outputs": [
        {
          "output_type": "error",
          "ename": "NameError",
          "evalue": "name 'backpack' is not defined",
          "traceback": [
            "\u001b[0;31m---------------------------------------------------------------------------\u001b[0m",
            "\u001b[0;31mNameError\u001b[0m                                 Traceback (most recent call last)",
            "\u001b[0;32m<ipython-input-41-7cbc31dc4527>\u001b[0m in \u001b[0;36m<cell line: 1>\u001b[0;34m()\u001b[0m\n\u001b[0;32m----> 1\u001b[0;31m \u001b[0;32mfor\u001b[0m \u001b[0mi\u001b[0m\u001b[0;34m,\u001b[0m\u001b[0mval\u001b[0m \u001b[0;32min\u001b[0m \u001b[0menumerate\u001b[0m\u001b[0;34m(\u001b[0m\u001b[0mbackpack\u001b[0m\u001b[0;34m)\u001b[0m\u001b[0;34m:\u001b[0m\u001b[0;34m\u001b[0m\u001b[0;34m\u001b[0m\u001b[0m\n\u001b[0m\u001b[1;32m      2\u001b[0m     \u001b[0mprint\u001b[0m\u001b[0;34m(\u001b[0m\u001b[0mi\u001b[0m\u001b[0;34m,\u001b[0m\u001b[0mval\u001b[0m\u001b[0;34m)\u001b[0m\u001b[0;34m\u001b[0m\u001b[0;34m\u001b[0m\u001b[0m\n",
            "\u001b[0;31mNameError\u001b[0m: name 'backpack' is not defined"
          ]
        }
      ],
      "source": [
        "for i,val in enumerate(backpack):\n",
        "    print(i,val)"
      ]
    },
    {
      "cell_type": "code",
      "execution_count": 40,
      "metadata": {
        "id": "w9vpNEw7vxXE",
        "outputId": "29fda74c-7568-4b64-bb46-41a0ddba2c83",
        "colab": {
          "base_uri": "https://localhost:8080/"
        }
      },
      "outputs": [
        {
          "output_type": "stream",
          "name": "stdout",
          "text": [
            "2 3\n",
            "4 6\n",
            "6 9\n",
            "8 12\n",
            "10 15\n"
          ]
        }
      ],
      "source": [
        "# zip\n",
        "L = [2, 4, 6, 8, 10]\n",
        "R = [3, 6, 9, 12, 15]\n",
        "\n",
        "for lval,rval in zip(L,R):\n",
        "    print(lval,rval)\n",
        "\n"
      ]
    },
    {
      "cell_type": "code",
      "execution_count": 39,
      "metadata": {
        "id": "1H0jYtfBvxXE",
        "outputId": "97ef831a-3a3b-4734-cc08-e91b59bb2964",
        "colab": {
          "base_uri": "https://localhost:8080/"
        }
      },
      "outputs": [
        {
          "output_type": "stream",
          "name": "stdout",
          "text": [
            "2 3\n",
            "4 6\n",
            "6 9\n"
          ]
        }
      ],
      "source": [
        "L = [2, 4, 6, 8, 10]\n",
        "R = [3, 6, 9]\n",
        "\n",
        "for lval,rval in zip(L,R):\n",
        "    print(lval,rval)"
      ]
    },
    {
      "cell_type": "code",
      "execution_count": 38,
      "metadata": {
        "id": "4W6GhdjevxXE",
        "outputId": "c3d82084-fa4b-463c-b900-2033058ecfa9",
        "colab": {
          "base_uri": "https://localhost:8080/"
        }
      },
      "outputs": [
        {
          "output_type": "stream",
          "name": "stdout",
          "text": [
            "0 1 4 9 16 25 36 49 64 81 "
          ]
        }
      ],
      "source": [
        "# map : takes a function and applies it to the values in an iterator\n",
        "\n",
        "# find the first 10 square numbers\n",
        "\n",
        "\n",
        "square = lambda x: x ** 2\n",
        "for val in map(square, range(10)):\n",
        "    print(val, end=' ')\n"
      ]
    },
    {
      "cell_type": "code",
      "execution_count": 37,
      "metadata": {
        "id": "Rk1r8s-uvxXE"
      },
      "outputs": [],
      "source": [
        "# lambda\n",
        "\n",
        "def sqr(n):\n",
        "    return n ** 2"
      ]
    },
    {
      "cell_type": "code",
      "execution_count": 36,
      "metadata": {
        "id": "DcvPkaH8vxXE",
        "outputId": "acbdd496-79dc-4133-b5df-9de7c3b87392",
        "colab": {
          "base_uri": "https://localhost:8080/",
          "height": 141
        }
      },
      "outputs": [
        {
          "output_type": "error",
          "ename": "NameError",
          "evalue": "name 'sqr' is not defined",
          "traceback": [
            "\u001b[0;31m---------------------------------------------------------------------------\u001b[0m",
            "\u001b[0;31mNameError\u001b[0m                                 Traceback (most recent call last)",
            "\u001b[0;32m<ipython-input-36-78c39c798fdf>\u001b[0m in \u001b[0;36m<cell line: 1>\u001b[0;34m()\u001b[0m\n\u001b[0;32m----> 1\u001b[0;31m \u001b[0msqr\u001b[0m\u001b[0;34m(\u001b[0m\u001b[0;36m5\u001b[0m\u001b[0;34m)\u001b[0m\u001b[0;34m\u001b[0m\u001b[0;34m\u001b[0m\u001b[0m\n\u001b[0m",
            "\u001b[0;31mNameError\u001b[0m: name 'sqr' is not defined"
          ]
        }
      ],
      "source": [
        "sqr(5)"
      ]
    },
    {
      "cell_type": "code",
      "execution_count": 34,
      "metadata": {
        "id": "XweCnjMnvxXE"
      },
      "outputs": [],
      "source": []
    },
    {
      "cell_type": "code",
      "execution_count": 35,
      "metadata": {
        "id": "VHpxcqJJvxXE",
        "outputId": "b6f18926-0ac1-41ad-93f1-60d77099e721",
        "colab": {
          "base_uri": "https://localhost:8080/"
        }
      },
      "outputs": [
        {
          "output_type": "stream",
          "name": "stdout",
          "text": [
            "0 2 4 6 8 "
          ]
        }
      ],
      "source": [
        "# filter : it only passes-through values for which the filter function evaluates to True\n",
        "\n",
        "is_even = lambda x: x % 2 == 0\n",
        "for val in filter(is_even, range(10)):\n",
        "    print(val, end=' ')"
      ]
    },
    {
      "cell_type": "code",
      "execution_count": 34,
      "metadata": {
        "id": "TiheYXZBvxXE",
        "outputId": "c1d3de24-da95-4d8d-a6d7-c936a3664a08",
        "colab": {
          "base_uri": "https://localhost:8080/"
        }
      },
      "outputs": [
        {
          "output_type": "stream",
          "name": "stdout",
          "text": [
            "True False True False True False True False True False "
          ]
        }
      ],
      "source": [
        "# filter vs map\n",
        "\n",
        "is_even = lambda x: x % 2 == 0\n",
        "for val in map(is_even, range(10)):\n",
        "    print(val, end=' ')"
      ]
    },
    {
      "cell_type": "code",
      "execution_count": 33,
      "metadata": {
        "id": "_Y4npl6HvxXE",
        "outputId": "6ecda7c0-3990-43e1-acac-9ce104413eeb",
        "colab": {
          "base_uri": "https://localhost:8080/"
        }
      },
      "outputs": [
        {
          "output_type": "stream",
          "name": "stdout",
          "text": [
            "(0, 1, 2) (0, 2, 1) (1, 0, 2) (1, 2, 0) (2, 0, 1) (2, 1, 0)\n"
          ]
        }
      ],
      "source": [
        "# itertools\n",
        "\n",
        "from itertools import permutations\n",
        "p = permutations(range(3))\n",
        "print(*p)"
      ]
    },
    {
      "cell_type": "code",
      "execution_count": 32,
      "metadata": {
        "id": "kCiuUSUFvxXE",
        "outputId": "d4ad53e4-609e-412c-be7d-3fc2efa4680e",
        "colab": {
          "base_uri": "https://localhost:8080/"
        }
      },
      "outputs": [
        {
          "output_type": "stream",
          "name": "stdout",
          "text": [
            "(0, 1, 2) (0, 1, 3) (0, 2, 3) (1, 2, 3)\n"
          ]
        }
      ],
      "source": [
        "from itertools import combinations\n",
        "c = combinations(range(4), 3)\n",
        "print(*c)"
      ]
    },
    {
      "cell_type": "code",
      "execution_count": 31,
      "metadata": {
        "id": "hSxOHnpevxXE",
        "outputId": "78600bb0-563b-485b-a12f-3e9678a9ff88",
        "colab": {
          "base_uri": "https://localhost:8080/"
        }
      },
      "outputs": [
        {
          "output_type": "stream",
          "name": "stdout",
          "text": [
            "('a', 0) ('a', 1) ('a', 2) ('b', 0) ('b', 1) ('b', 2)\n"
          ]
        }
      ],
      "source": [
        "from itertools import product\n",
        "p = product('ab', range(3))\n",
        "print(*p)"
      ]
    },
    {
      "cell_type": "code",
      "execution_count": 30,
      "metadata": {
        "id": "yL__P0yDvxXE",
        "outputId": "17b86e49-ed4a-46fd-996c-edff07e99df3",
        "colab": {
          "base_uri": "https://localhost:8080/"
        }
      },
      "outputs": [
        {
          "output_type": "stream",
          "name": "stdout",
          "text": [
            "<itertools.permutations object at 0x7e4fd8349da0>\n"
          ]
        }
      ],
      "source": [
        "from itertools import permutations\n",
        "p = permutations(range(3))\n",
        "print(p)"
      ]
    },
    {
      "cell_type": "code",
      "execution_count": 29,
      "metadata": {
        "id": "c4YVnqafvxXE",
        "outputId": "35f30ed9-a412-4494-f6af-cdda17547af3",
        "colab": {
          "base_uri": "https://localhost:8080/"
        }
      },
      "outputs": [
        {
          "output_type": "stream",
          "name": "stdout",
          "text": [
            "1 2 3 4 "
          ]
        }
      ],
      "source": [
        "L = [1,2,3,4]\n",
        "for i in L:\n",
        "    print(i, end=' ')"
      ]
    },
    {
      "cell_type": "code",
      "execution_count": 28,
      "metadata": {
        "id": "5cr6qNxHvxXE",
        "outputId": "4907279a-f824-43b8-f449-48d7821065e1",
        "colab": {
          "base_uri": "https://localhost:8080/",
          "height": 141
        }
      },
      "outputs": [
        {
          "output_type": "error",
          "ename": "NameError",
          "evalue": "name 'L' is not defined",
          "traceback": [
            "\u001b[0;31m---------------------------------------------------------------------------\u001b[0m",
            "\u001b[0;31mNameError\u001b[0m                                 Traceback (most recent call last)",
            "\u001b[0;32m<ipython-input-28-473b7b88beb7>\u001b[0m in \u001b[0;36m<cell line: 1>\u001b[0;34m()\u001b[0m\n\u001b[0;32m----> 1\u001b[0;31m \u001b[0mprint\u001b[0m\u001b[0;34m(\u001b[0m\u001b[0;34m*\u001b[0m\u001b[0mL\u001b[0m\u001b[0;34m)\u001b[0m\u001b[0;34m\u001b[0m\u001b[0;34m\u001b[0m\u001b[0m\n\u001b[0m",
            "\u001b[0;31mNameError\u001b[0m: name 'L' is not defined"
          ]
        }
      ],
      "source": [
        "print(*L)"
      ]
    },
    {
      "cell_type": "code",
      "execution_count": 27,
      "metadata": {
        "id": "LsEb_m0bvxXF",
        "outputId": "75a4d1ed-66f3-4f56-c226-b193d58bd867",
        "colab": {
          "base_uri": "https://localhost:8080/",
          "height": 158
        }
      },
      "outputs": [
        {
          "output_type": "error",
          "ename": "TypeError",
          "evalue": "print() argument after * must be an iterable, not int",
          "traceback": [
            "\u001b[0;31m---------------------------------------------------------------------------\u001b[0m",
            "\u001b[0;31mTypeError\u001b[0m                                 Traceback (most recent call last)",
            "\u001b[0;32m<ipython-input-27-926868513cf0>\u001b[0m in \u001b[0;36m<cell line: 2>\u001b[0;34m()\u001b[0m\n\u001b[1;32m      1\u001b[0m \u001b[0mnumber\u001b[0m \u001b[0;34m=\u001b[0m \u001b[0;36m100\u001b[0m\u001b[0;34m\u001b[0m\u001b[0;34m\u001b[0m\u001b[0m\n\u001b[0;32m----> 2\u001b[0;31m \u001b[0mprint\u001b[0m\u001b[0;34m(\u001b[0m\u001b[0;34m*\u001b[0m\u001b[0mnumber\u001b[0m\u001b[0;34m)\u001b[0m\u001b[0;34m\u001b[0m\u001b[0;34m\u001b[0m\u001b[0m\n\u001b[0m",
            "\u001b[0;31mTypeError\u001b[0m: print() argument after * must be an iterable, not int"
          ]
        }
      ],
      "source": [
        "number = 100\n",
        "print(*number)"
      ]
    },
    {
      "cell_type": "code",
      "execution_count": 26,
      "metadata": {
        "id": "lnwEwkOZvxXF",
        "outputId": "13a7d3d6-7096-4386-e347-50dd2d8a229c",
        "colab": {
          "base_uri": "https://localhost:8080/"
        }
      },
      "outputs": [
        {
          "output_type": "stream",
          "name": "stdout",
          "text": [
            "S u m a i r a\n"
          ]
        }
      ],
      "source": [
        "var = 'Sumaira'\n",
        "print(*var)"
      ]
    },
    {
      "cell_type": "code",
      "execution_count": 25,
      "metadata": {
        "id": "DY2-MxCUvxXF",
        "outputId": "a238549d-5535-430e-f3ce-6daa69e9eee0",
        "colab": {
          "base_uri": "https://localhost:8080/",
          "height": 176
        }
      },
      "outputs": [
        {
          "output_type": "error",
          "ename": "NameError",
          "evalue": "name 'Q' is not defined",
          "traceback": [
            "\u001b[0;31m---------------------------------------------------------------------------\u001b[0m",
            "\u001b[0;31mNameError\u001b[0m                                 Traceback (most recent call last)",
            "\u001b[0;32m<ipython-input-25-30f9819b5602>\u001b[0m in \u001b[0;36m<cell line: 3>\u001b[0;34m()\u001b[0m\n\u001b[1;32m      1\u001b[0m \u001b[0;31m# Errors and exception\u001b[0m\u001b[0;34m\u001b[0m\u001b[0;34m\u001b[0m\u001b[0m\n\u001b[1;32m      2\u001b[0m \u001b[0;34m\u001b[0m\u001b[0m\n\u001b[0;32m----> 3\u001b[0;31m \u001b[0mprint\u001b[0m\u001b[0;34m(\u001b[0m\u001b[0mQ\u001b[0m\u001b[0;34m)\u001b[0m\u001b[0;34m\u001b[0m\u001b[0;34m\u001b[0m\u001b[0m\n\u001b[0m",
            "\u001b[0;31mNameError\u001b[0m: name 'Q' is not defined"
          ]
        }
      ],
      "source": [
        "# Errors and exception\n",
        "\n",
        "print(Q)"
      ]
    },
    {
      "cell_type": "code",
      "execution_count": 24,
      "metadata": {
        "id": "JMzyV4iuvxXF",
        "outputId": "6869ebff-250b-415b-bc48-02b15d1e897b",
        "colab": {
          "base_uri": "https://localhost:8080/",
          "height": 141
        }
      },
      "outputs": [
        {
          "output_type": "error",
          "ename": "TypeError",
          "evalue": "unsupported operand type(s) for +: 'int' and 'str'",
          "traceback": [
            "\u001b[0;31m---------------------------------------------------------------------------\u001b[0m",
            "\u001b[0;31mTypeError\u001b[0m                                 Traceback (most recent call last)",
            "\u001b[0;32m<ipython-input-24-79c66d83bca1>\u001b[0m in \u001b[0;36m<cell line: 1>\u001b[0;34m()\u001b[0m\n\u001b[0;32m----> 1\u001b[0;31m \u001b[0;36m10\u001b[0m \u001b[0;34m+\u001b[0m \u001b[0;34m'Sum'\u001b[0m\u001b[0;34m\u001b[0m\u001b[0;34m\u001b[0m\u001b[0m\n\u001b[0m",
            "\u001b[0;31mTypeError\u001b[0m: unsupported operand type(s) for +: 'int' and 'str'"
          ]
        }
      ],
      "source": [
        "10 + 'Sum'"
      ]
    },
    {
      "cell_type": "code",
      "execution_count": 23,
      "metadata": {
        "id": "W7fwUKWQvxXF",
        "outputId": "7d357da1-bf9c-4830-b197-80b4dc13ba3c",
        "colab": {
          "base_uri": "https://localhost:8080/",
          "height": 141
        }
      },
      "outputs": [
        {
          "output_type": "error",
          "ename": "ZeroDivisionError",
          "evalue": "division by zero",
          "traceback": [
            "\u001b[0;31m---------------------------------------------------------------------------\u001b[0m",
            "\u001b[0;31mZeroDivisionError\u001b[0m                         Traceback (most recent call last)",
            "\u001b[0;32m<ipython-input-23-7f6b24c83360>\u001b[0m in \u001b[0;36m<cell line: 1>\u001b[0;34m()\u001b[0m\n\u001b[0;32m----> 1\u001b[0;31m \u001b[0;36m25\u001b[0m \u001b[0;34m/\u001b[0m \u001b[0;36m0\u001b[0m\u001b[0;34m\u001b[0m\u001b[0;34m\u001b[0m\u001b[0m\n\u001b[0m",
            "\u001b[0;31mZeroDivisionError\u001b[0m: division by zero"
          ]
        }
      ],
      "source": [
        "25 / 0"
      ]
    },
    {
      "cell_type": "markdown",
      "metadata": {
        "id": "HnoBAtk2vxXF"
      },
      "source": []
    },
    {
      "cell_type": "code",
      "execution_count": 22,
      "metadata": {
        "id": "sJII4s0KvxXF",
        "outputId": "d98e5572-3f96-4ef4-897e-f7b9f4405890",
        "colab": {
          "base_uri": "https://localhost:8080/",
          "height": 158
        }
      },
      "outputs": [
        {
          "output_type": "error",
          "ename": "IndexError",
          "evalue": "list index out of range",
          "traceback": [
            "\u001b[0;31m---------------------------------------------------------------------------\u001b[0m",
            "\u001b[0;31mIndexError\u001b[0m                                Traceback (most recent call last)",
            "\u001b[0;32m<ipython-input-22-40fa88a72698>\u001b[0m in \u001b[0;36m<cell line: 2>\u001b[0;34m()\u001b[0m\n\u001b[1;32m      1\u001b[0m \u001b[0ml\u001b[0m \u001b[0;34m=\u001b[0m \u001b[0;34m[\u001b[0m\u001b[0;36m1\u001b[0m\u001b[0;34m,\u001b[0m\u001b[0;36m2\u001b[0m\u001b[0;34m,\u001b[0m\u001b[0;36m3\u001b[0m\u001b[0;34m,\u001b[0m\u001b[0;36m4\u001b[0m\u001b[0;34m]\u001b[0m\u001b[0;34m\u001b[0m\u001b[0;34m\u001b[0m\u001b[0m\n\u001b[0;32m----> 2\u001b[0;31m \u001b[0ml\u001b[0m\u001b[0;34m[\u001b[0m\u001b[0;36m10\u001b[0m\u001b[0;34m]\u001b[0m\u001b[0;34m\u001b[0m\u001b[0;34m\u001b[0m\u001b[0m\n\u001b[0m",
            "\u001b[0;31mIndexError\u001b[0m: list index out of range"
          ]
        }
      ],
      "source": [
        "l = [1,2,3,4]\n",
        "l[10]"
      ]
    },
    {
      "cell_type": "code",
      "execution_count": 21,
      "metadata": {
        "id": "X4CPHjcNvxXF",
        "outputId": "d343700e-4b5e-4ba5-f5a4-972690eb425c",
        "colab": {
          "base_uri": "https://localhost:8080/"
        }
      },
      "outputs": [
        {
          "output_type": "stream",
          "name": "stdout",
          "text": [
            "This will get exicuted\n"
          ]
        }
      ],
      "source": [
        "# try and except block\n",
        "\n",
        "try:\n",
        "    print('This will get exicuted')\n",
        "except:\n",
        "    print(\"this will get executed if there is error in the try block\")\n",
        "\n"
      ]
    },
    {
      "cell_type": "code",
      "execution_count": 20,
      "metadata": {
        "id": "-OiTMLDPvxXF",
        "outputId": "bffd096d-63b1-4478-a655-1e6ee38cf81a",
        "colab": {
          "base_uri": "https://localhost:8080/"
        }
      },
      "outputs": [
        {
          "output_type": "stream",
          "name": "stdout",
          "text": [
            "this will get executed\n",
            "something bad happend\n"
          ]
        }
      ],
      "source": [
        "try:\n",
        "    print('this will get executed')\n",
        "    x = 15 / 0 # zero division error\n",
        "except:\n",
        "    print('something bad happend')"
      ]
    },
    {
      "cell_type": "code",
      "execution_count": 19,
      "metadata": {
        "id": "PWwUsJ0IvxXF",
        "outputId": "5e9a8ce1-d2cd-4fdd-c54b-d37b8450cb4a",
        "colab": {
          "base_uri": "https://localhost:8080/"
        }
      },
      "outputs": [
        {
          "output_type": "stream",
          "name": "stdout",
          "text": [
            "something bad happend\n"
          ]
        }
      ],
      "source": [
        "try:\n",
        "    x = 15 / 0 # zero division error\n",
        "    print('this will get executed')\n",
        "\n",
        "except:\n",
        "    print('something bad happend')"
      ]
    },
    {
      "cell_type": "code",
      "execution_count": 18,
      "metadata": {
        "id": "08QoMOa3vxXF"
      },
      "outputs": [],
      "source": [
        "def safe_division(a,b):\n",
        "    try:\n",
        "        return a / b\n",
        "    except:\n",
        "        return 10 ** 10"
      ]
    },
    {
      "cell_type": "code",
      "execution_count": 17,
      "metadata": {
        "id": "T6OiDGEVvxXF",
        "outputId": "9e3d305f-938a-4e9a-b56d-dac6e5d717ff",
        "colab": {
          "base_uri": "https://localhost:8080/"
        }
      },
      "outputs": [
        {
          "output_type": "execute_result",
          "data": {
            "text/plain": [
              "0.5"
            ]
          },
          "metadata": {},
          "execution_count": 17
        }
      ],
      "source": [
        "safe_division(1,2)"
      ]
    },
    {
      "cell_type": "markdown",
      "metadata": {
        "id": "PHLMNxKWvxXF"
      },
      "source": []
    },
    {
      "cell_type": "code",
      "execution_count": 16,
      "metadata": {
        "id": "sD2L7J5gvxXF",
        "outputId": "4e60f1c4-a31c-4f83-88c8-2edf08bb2a7d",
        "colab": {
          "base_uri": "https://localhost:8080/"
        }
      },
      "outputs": [
        {
          "output_type": "execute_result",
          "data": {
            "text/plain": [
              "10000000000"
            ]
          },
          "metadata": {},
          "execution_count": 16
        }
      ],
      "source": [
        "safe_division(10,0)"
      ]
    },
    {
      "cell_type": "code",
      "execution_count": 15,
      "metadata": {
        "id": "uErIR05jvxXF",
        "outputId": "8a1e5ad6-eafe-4fdc-d7fb-83aa050f2111",
        "colab": {
          "base_uri": "https://localhost:8080/",
          "height": 263
        }
      },
      "outputs": [
        {
          "output_type": "error",
          "ename": "TypeError",
          "evalue": "unsupported operand type(s) for /: 'int' and 'str'",
          "traceback": [
            "\u001b[0;31m---------------------------------------------------------------------------\u001b[0m",
            "\u001b[0;31mTypeError\u001b[0m                                 Traceback (most recent call last)",
            "\u001b[0;32m<ipython-input-15-b33722752192>\u001b[0m in \u001b[0;36m<cell line: 1>\u001b[0;34m()\u001b[0m\n\u001b[0;32m----> 1\u001b[0;31m \u001b[0msafe_division\u001b[0m\u001b[0;34m(\u001b[0m\u001b[0;36m10\u001b[0m\u001b[0;34m,\u001b[0m\u001b[0;34m'2'\u001b[0m\u001b[0;34m)\u001b[0m\u001b[0;34m\u001b[0m\u001b[0;34m\u001b[0m\u001b[0m\n\u001b[0m",
            "\u001b[0;32m<ipython-input-14-cd9379b3b9c6>\u001b[0m in \u001b[0;36msafe_division\u001b[0;34m(a, b)\u001b[0m\n\u001b[1;32m      1\u001b[0m \u001b[0;32mdef\u001b[0m \u001b[0msafe_division\u001b[0m\u001b[0;34m(\u001b[0m\u001b[0ma\u001b[0m\u001b[0;34m,\u001b[0m\u001b[0mb\u001b[0m\u001b[0;34m)\u001b[0m\u001b[0;34m:\u001b[0m\u001b[0;34m\u001b[0m\u001b[0;34m\u001b[0m\u001b[0m\n\u001b[1;32m      2\u001b[0m     \u001b[0;32mtry\u001b[0m\u001b[0;34m:\u001b[0m\u001b[0;34m\u001b[0m\u001b[0;34m\u001b[0m\u001b[0m\n\u001b[0;32m----> 3\u001b[0;31m         \u001b[0;32mreturn\u001b[0m \u001b[0ma\u001b[0m \u001b[0;34m/\u001b[0m \u001b[0mb\u001b[0m\u001b[0;34m\u001b[0m\u001b[0;34m\u001b[0m\u001b[0m\n\u001b[0m\u001b[1;32m      4\u001b[0m     \u001b[0;32mexcept\u001b[0m \u001b[0mZeroDivisionError\u001b[0m\u001b[0;34m:\u001b[0m\u001b[0;34m\u001b[0m\u001b[0;34m\u001b[0m\u001b[0m\n\u001b[1;32m      5\u001b[0m         \u001b[0;32mreturn\u001b[0m \u001b[0;36m10\u001b[0m \u001b[0;34m**\u001b[0m \u001b[0;36m10\u001b[0m\u001b[0;34m\u001b[0m\u001b[0;34m\u001b[0m\u001b[0m\n",
            "\u001b[0;31mTypeError\u001b[0m: unsupported operand type(s) for /: 'int' and 'str'"
          ]
        }
      ],
      "source": [
        "safe_division(10,'2')"
      ]
    },
    {
      "cell_type": "code",
      "execution_count": 14,
      "metadata": {
        "id": "kCptBu60vxXF"
      },
      "outputs": [],
      "source": [
        "def safe_division(a,b):\n",
        "    try:\n",
        "        return a / b\n",
        "    except ZeroDivisionError:\n",
        "        return 10 ** 10"
      ]
    },
    {
      "cell_type": "code",
      "execution_count": 13,
      "metadata": {
        "id": "klOcUFVNvxXF",
        "outputId": "665a113f-2c81-4ef0-e795-1d40cc081386",
        "colab": {
          "base_uri": "https://localhost:8080/",
          "height": 141
        }
      },
      "outputs": [
        {
          "output_type": "error",
          "ename": "NameError",
          "evalue": "name 'safe_division' is not defined",
          "traceback": [
            "\u001b[0;31m---------------------------------------------------------------------------\u001b[0m",
            "\u001b[0;31mNameError\u001b[0m                                 Traceback (most recent call last)",
            "\u001b[0;32m<ipython-input-13-b33722752192>\u001b[0m in \u001b[0;36m<cell line: 1>\u001b[0;34m()\u001b[0m\n\u001b[0;32m----> 1\u001b[0;31m \u001b[0msafe_division\u001b[0m\u001b[0;34m(\u001b[0m\u001b[0;36m10\u001b[0m\u001b[0;34m,\u001b[0m\u001b[0;34m'2'\u001b[0m\u001b[0;34m)\u001b[0m\u001b[0;34m\u001b[0m\u001b[0;34m\u001b[0m\u001b[0m\n\u001b[0m",
            "\u001b[0;31mNameError\u001b[0m: name 'safe_division' is not defined"
          ]
        }
      ],
      "source": [
        "safe_division(10,'2')"
      ]
    },
    {
      "cell_type": "code",
      "execution_count": 3,
      "metadata": {
        "id": "twSbn_O7vxXG",
        "outputId": "4968e7e9-8075-4807-cf4c-986eacc92234",
        "colab": {
          "base_uri": "https://localhost:8080/",
          "height": 141
        }
      },
      "outputs": [
        {
          "output_type": "error",
          "ename": "TypeError",
          "evalue": "unsupported operand type(s) for /: 'int' and 'str'",
          "traceback": [
            "\u001b[0;31m---------------------------------------------------------------------------\u001b[0m",
            "\u001b[0;31mTypeError\u001b[0m                                 Traceback (most recent call last)",
            "\u001b[0;32m<ipython-input-3-b37f58df7800>\u001b[0m in \u001b[0;36m<cell line: 1>\u001b[0;34m()\u001b[0m\n\u001b[0;32m----> 1\u001b[0;31m \u001b[0;36m10\u001b[0m \u001b[0;34m/\u001b[0m \u001b[0;34m'2'\u001b[0m\u001b[0;34m\u001b[0m\u001b[0;34m\u001b[0m\u001b[0m\n\u001b[0m",
            "\u001b[0;31mTypeError\u001b[0m: unsupported operand type(s) for /: 'int' and 'str'"
          ]
        }
      ],
      "source": [
        "10 / '2'"
      ]
    },
    {
      "cell_type": "code",
      "execution_count": 12,
      "metadata": {
        "id": "qtYaqUG-vxXG"
      },
      "outputs": [],
      "source": [
        "# Raise statement\n",
        "\n",
        "def fibonacci(N):\n",
        "    L = []\n",
        "    a, b = 0, 1\n",
        "    while len(L) < N:\n",
        "        a, b = b, a + b\n",
        "        L.append(a)\n",
        "    return L"
      ]
    },
    {
      "cell_type": "code",
      "execution_count": 11,
      "metadata": {
        "id": "0gD3fzTfvxXG",
        "outputId": "28daaf39-a00b-4c54-c413-496fd2e2f9b6",
        "colab": {
          "base_uri": "https://localhost:8080/"
        }
      },
      "outputs": [
        {
          "output_type": "execute_result",
          "data": {
            "text/plain": [
              "[1, 1, 2, 3, 5, 8, 13, 21, 34, 55]"
            ]
          },
          "metadata": {},
          "execution_count": 11
        }
      ],
      "source": [
        "fibonacci(10)"
      ]
    },
    {
      "cell_type": "code",
      "execution_count": 10,
      "metadata": {
        "id": "F293XoievxXG",
        "outputId": "7ef7dc01-81ef-4ec9-c6e4-fb5d6dbb365f",
        "colab": {
          "base_uri": "https://localhost:8080/"
        }
      },
      "outputs": [
        {
          "output_type": "execute_result",
          "data": {
            "text/plain": [
              "[]"
            ]
          },
          "metadata": {},
          "execution_count": 10
        }
      ],
      "source": [
        "fibonacci(-10)"
      ]
    },
    {
      "cell_type": "code",
      "execution_count": 9,
      "metadata": {
        "id": "JzM2ls_EvxXG",
        "outputId": "5d074735-82a0-47a5-f11f-adf73d2e2b82",
        "colab": {
          "base_uri": "https://localhost:8080/"
        }
      },
      "outputs": [
        {
          "output_type": "execute_result",
          "data": {
            "text/plain": [
              "[1, 1, 2, 3, 5]"
            ]
          },
          "metadata": {},
          "execution_count": 9
        }
      ],
      "source": [
        "fibonacci(5)"
      ]
    },
    {
      "cell_type": "code",
      "execution_count": 8,
      "metadata": {
        "id": "hE9cowUdvxXG",
        "outputId": "2e148a75-3007-445a-ec62-5b6fedb06489",
        "colab": {
          "base_uri": "https://localhost:8080/"
        }
      },
      "outputs": [
        {
          "output_type": "execute_result",
          "data": {
            "text/plain": [
              "[]"
            ]
          },
          "metadata": {},
          "execution_count": 8
        }
      ],
      "source": [
        "fibonacci(-20)"
      ]
    },
    {
      "cell_type": "code",
      "execution_count": null,
      "metadata": {
        "id": "5J-umHELvxXG"
      },
      "outputs": [],
      "source": [
        "def fibonacci(N):\n",
        "    if N < 0:\n",
        "        raise ValueError(\"N must be non-negative number\")\n",
        "    L = []\n",
        "    a, b = 0, 1\n",
        "    while len(L) < N:\n",
        "        a, b = b, a + b\n",
        "        L.append(a)\n",
        "    return L"
      ]
    },
    {
      "cell_type": "code",
      "execution_count": 5,
      "metadata": {
        "id": "nfyj4wfOvxXG",
        "outputId": "f70c746b-bf75-4f5d-8619-cb28616377f6",
        "colab": {
          "base_uri": "https://localhost:8080/"
        }
      },
      "outputs": [
        {
          "output_type": "execute_result",
          "data": {
            "text/plain": [
              "[]"
            ]
          },
          "metadata": {},
          "execution_count": 5
        }
      ],
      "source": [
        "fibonacci(-10)"
      ]
    },
    {
      "cell_type": "code",
      "execution_count": 6,
      "metadata": {
        "id": "wmT2hQ15vxXG",
        "outputId": "e3c3667b-e6ec-4225-f258-f2ca411be1e6",
        "colab": {
          "base_uri": "https://localhost:8080/"
        }
      },
      "outputs": [
        {
          "output_type": "execute_result",
          "data": {
            "text/plain": [
              "[1, 1, 2, 3, 5]"
            ]
          },
          "metadata": {},
          "execution_count": 6
        }
      ],
      "source": [
        "fibonacci(5)"
      ]
    },
    {
      "cell_type": "code",
      "execution_count": 7,
      "metadata": {
        "id": "L8GKxHG_vxXG",
        "outputId": "4096d38c-899a-4d82-9474-8e65e1eb2314",
        "colab": {
          "base_uri": "https://localhost:8080/"
        }
      },
      "outputs": [
        {
          "output_type": "stream",
          "name": "stdout",
          "text": [
            "hello\n"
          ]
        }
      ],
      "source": [
        "print(\"hello\")"
      ]
    }
  ],
  "metadata": {
    "kernelspec": {
      "display_name": "base",
      "language": "python",
      "name": "python3"
    },
    "language_info": {
      "codemirror_mode": {
        "name": "ipython",
        "version": 3
      },
      "file_extension": ".py",
      "mimetype": "text/x-python",
      "name": "python",
      "nbconvert_exporter": "python",
      "pygments_lexer": "ipython3",
      "version": "3.9.6"
    },
    "orig_nbformat": 4,
    "colab": {
      "provenance": [],
      "include_colab_link": true
    }
  },
  "nbformat": 4,
  "nbformat_minor": 0
}