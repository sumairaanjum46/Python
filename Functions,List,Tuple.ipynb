{
  "cells": [
    {
      "cell_type": "markdown",
      "metadata": {
        "id": "view-in-github",
        "colab_type": "text"
      },
      "source": [
        "<a href=\"https://colab.research.google.com/github/sumairaanjum46/Python/blob/main/Functions%2CList%2CTuple.ipynb\" target=\"_parent\"><img src=\"https://colab.research.google.com/assets/colab-badge.svg\" alt=\"Open In Colab\"/></a>"
      ]
    },
    {
      "cell_type": "code",
      "execution_count": null,
      "metadata": {
        "id": "1806nTNwXD3P"
      },
      "outputs": [],
      "source": [
        "def hello():\n",
        "  print(\"Hello world\")"
      ]
    },
    {
      "cell_type": "code",
      "execution_count": null,
      "metadata": {
        "colab": {
          "base_uri": "https://localhost:8080/"
        },
        "id": "P_-pSz65XVaZ",
        "outputId": "1230becc-3791-4c29-f3a2-3ee56935104d"
      },
      "outputs": [
        {
          "name": "stdout",
          "output_type": "stream",
          "text": [
            "Hello world\n"
          ]
        }
      ],
      "source": [
        "hello()"
      ]
    },
    {
      "cell_type": "code",
      "execution_count": null,
      "metadata": {
        "id": "mLkU9SykXYF1"
      },
      "outputs": [],
      "source": [
        "def summ_of_numbers(a,b):\n",
        "  sum=a+b\n",
        "  print(sum)"
      ]
    },
    {
      "cell_type": "code",
      "execution_count": null,
      "metadata": {
        "colab": {
          "base_uri": "https://localhost:8080/"
        },
        "id": "lEW5v9yzXhvz",
        "outputId": "f1a940ed-765c-4ba3-b1c9-bf0871e58005"
      },
      "outputs": [
        {
          "name": "stdout",
          "output_type": "stream",
          "text": [
            "8\n"
          ]
        }
      ],
      "source": [
        "summ_of_numbers(6,2)\n",
        "\n"
      ]
    },
    {
      "cell_type": "code",
      "execution_count": null,
      "metadata": {
        "colab": {
          "base_uri": "https://localhost:8080/"
        },
        "id": "y79T6IyAbbaG",
        "outputId": "0c1c88b3-9db1-48ed-f3c5-d764463bb728"
      },
      "outputs": [
        {
          "name": "stdout",
          "output_type": "stream",
          "text": [
            "200 100\n"
          ]
        }
      ],
      "source": [
        "#swapping in python\n",
        "a=100\n",
        "b=200\n",
        "a,b=b,a\n",
        "print(a,b)"
      ]
    },
    {
      "cell_type": "code",
      "execution_count": null,
      "metadata": {
        "id": "m7Nyem1ebrZT"
      },
      "outputs": [],
      "source": [
        "#fibonacci series\n",
        "def fibonacci_series(N, a=0,b=1):\n",
        "  counter = 0\n",
        "  while counter<N:\n",
        "    a, b=b, a+b\n",
        "    print(a, end=' ')\n",
        "    counter=counter+1\n",
        "\n"
      ]
    },
    {
      "cell_type": "code",
      "execution_count": null,
      "metadata": {
        "colab": {
          "base_uri": "https://localhost:8080/"
        },
        "id": "wIxlin-JcdnA",
        "outputId": "8e41f5ec-37be-491e-bd1f-938b868e00ed"
      },
      "outputs": [
        {
          "name": "stdout",
          "output_type": "stream",
          "text": [
            "1 1 2 3 5 8 13 21 34 55 "
          ]
        }
      ],
      "source": [
        "fibonacci_series(10)\n"
      ]
    },
    {
      "cell_type": "code",
      "execution_count": null,
      "metadata": {
        "colab": {
          "background_save": true
        },
        "id": "nW8ORpipeGVi"
      },
      "outputs": [],
      "source": [
        "def fibonacci(N ,a=0,b=1):\n",
        "  counter=0\n",
        "  while counter<N:\n",
        "    a, b=b, a+b\n",
        "    print(a,end=' ')\n",
        "  counter=counter+1\n"
      ]
    },
    {
      "cell_type": "code",
      "source": [
        "#LIST(ORDERED COLLECTION because it has index)\n",
        "#elements can be accessed by index\n",
        "#TUPLE( IMMUTABLE ORDERED COLLECTION , because once you store any type of data, cannot be changed or modify , cannot modify specific value )\n",
        "#dict(DICTIONARY,unordered, KEY-VALUE PAIR mapping) JSON\n",
        "#SET (unordered collection of unique values)\n"
      ],
      "metadata": {
        "id": "HtytAnH_k2rL"
      },
      "execution_count": null,
      "outputs": []
    },
    {
      "cell_type": "code",
      "source": [
        "a=[1,2,3] #value inside list are items\n",
        "print(a)"
      ],
      "metadata": {
        "colab": {
          "base_uri": "https://localhost:8080/"
        },
        "id": "ZRQ_pprQm_-x",
        "outputId": "7f3097f6-ece0-4f3b-9654-d6fffb0345d7"
      },
      "execution_count": null,
      "outputs": [
        {
          "output_type": "stream",
          "name": "stdout",
          "text": [
            "[1, 2, 3]\n"
          ]
        }
      ]
    },
    {
      "cell_type": "code",
      "source": [
        "stationary=['pen', 'pencil', 'eraser', 'books']\n",
        "print(stationary[2])\n",
        "print(stationary[-4])\n",
        "stationary[1:2]"
      ],
      "metadata": {
        "colab": {
          "base_uri": "https://localhost:8080/"
        },
        "id": "lLlDQo3tnUd4",
        "outputId": "0d91833d-5036-4c50-d5e6-c2caa7b11b9f"
      },
      "execution_count": null,
      "outputs": [
        {
          "output_type": "stream",
          "name": "stdout",
          "text": [
            "eraser\n",
            "pen\n"
          ]
        },
        {
          "output_type": "execute_result",
          "data": {
            "text/plain": [
              "['pencil']"
            ]
          },
          "metadata": {},
          "execution_count": 15
        }
      ]
    },
    {
      "cell_type": "markdown",
      "source": [
        "append() method adds the argument at the end of the list\n",
        "insert() method can insert a value at any index in the list\n",
        "del() - will delete value at index\n",
        "remove()-  attempting to delete a value that doesnot exists will result in ValueError , If value appears multiple times in the list , only first instance of the value will be removed"
      ],
      "metadata": {
        "id": "Zy1b1DQopS1H"
      }
    },
    {
      "cell_type": "code",
      "source": [
        "stationary.append('reader')"
      ],
      "metadata": {
        "id": "6qufLfyUpl_5"
      },
      "execution_count": null,
      "outputs": []
    },
    {
      "cell_type": "code",
      "source": [
        "stationary"
      ],
      "metadata": {
        "colab": {
          "base_uri": "https://localhost:8080/"
        },
        "id": "7Ej8ZS5x4U_F",
        "outputId": "2f261fce-35fd-4f23-adf7-f2d9072ad89b"
      },
      "execution_count": null,
      "outputs": [
        {
          "output_type": "execute_result",
          "data": {
            "text/plain": [
              "['pen', 'pencil', 'eraser', 'books', 'reader', 'reader', 'reader']"
            ]
          },
          "metadata": {},
          "execution_count": 22
        }
      ]
    },
    {
      "cell_type": "markdown",
      "source": [
        "List operators\n",
        "list concatenation & replication\n",
        "in & ont in operator - whether the value is in a list with the in operator\n",
        "we can determine whether a value is not in a list with the not in operator"
      ],
      "metadata": {
        "id": "cgI6Kqpd5Bfl"
      }
    },
    {
      "cell_type": "code",
      "source": [
        "#list concantenation\n",
        "[1,2,3] + ['a','b','c']"
      ],
      "metadata": {
        "colab": {
          "base_uri": "https://localhost:8080/"
        },
        "id": "5NHW-EZR5gpO",
        "outputId": "adbcc15f-1183-4273-c568-138070fe4c15"
      },
      "execution_count": null,
      "outputs": [
        {
          "output_type": "execute_result",
          "data": {
            "text/plain": [
              "[1, 2, 3, 'a', 'b', 'c']"
            ]
          },
          "metadata": {},
          "execution_count": 23
        }
      ]
    },
    {
      "cell_type": "code",
      "source": [
        "#lst replication\n",
        "['x','y','z'] * 3"
      ],
      "metadata": {
        "colab": {
          "base_uri": "https://localhost:8080/"
        },
        "id": "oy8huT4P5syV",
        "outputId": "7db6d3e8-c215-4f6e-c02d-9647676339b5"
      },
      "execution_count": null,
      "outputs": [
        {
          "output_type": "execute_result",
          "data": {
            "text/plain": [
              "['x', 'y', 'z', 'x', 'y', 'z', 'x', 'y', 'z']"
            ]
          },
          "metadata": {},
          "execution_count": 24
        }
      ]
    },
    {
      "cell_type": "code",
      "source": [
        "# in operator\n",
        "'hello' in ['hey','hi','hello']\n"
      ],
      "metadata": {
        "colab": {
          "base_uri": "https://localhost:8080/"
        },
        "id": "JWOjboGu50bl",
        "outputId": "d9387182-9dba-4774-d1bd-b9d96f8ec5af"
      },
      "execution_count": null,
      "outputs": [
        {
          "output_type": "execute_result",
          "data": {
            "text/plain": [
              "True"
            ]
          },
          "metadata": {},
          "execution_count": 28
        }
      ]
    },
    {
      "cell_type": "code",
      "source": [
        "# not in operator\n",
        "'hello' not in ['hey']"
      ],
      "metadata": {
        "colab": {
          "base_uri": "https://localhost:8080/"
        },
        "id": "KFgETcAh6DOX",
        "outputId": "11f0ffd9-64ab-400e-cf7c-168d138dba2a"
      },
      "execution_count": null,
      "outputs": [
        {
          "output_type": "execute_result",
          "data": {
            "text/plain": [
              "True"
            ]
          },
          "metadata": {},
          "execution_count": 29
        }
      ]
    },
    {
      "cell_type": "code",
      "source": [
        "# for loop with list\n",
        "for i in [0,1,2]:\n",
        "  print(i,end=' ')"
      ],
      "metadata": {
        "colab": {
          "base_uri": "https://localhost:8080/"
        },
        "id": "hvW_Yde56MLo",
        "outputId": "731e137f-e650-4807-d350-6e83e667efea"
      },
      "execution_count": null,
      "outputs": [
        {
          "output_type": "stream",
          "name": "stdout",
          "text": [
            "0 1 2 "
          ]
        }
      ]
    },
    {
      "cell_type": "markdown",
      "source": [
        "Tuple - tuples are almost similar to lists except in two ways :\n",
        "first tuples are written in parenthesis(), instead of square brackets\n",
        "but main is tuples same as string is immutable\n",
        "tuples cannot have their values modified, append or removed"
      ],
      "metadata": {
        "id": "pLnxEyJqdil3"
      }
    },
    {
      "cell_type": "code",
      "source": [
        "ab = (1,2,3,4)"
      ],
      "metadata": {
        "id": "cUBGVM3kdhyU"
      },
      "execution_count": null,
      "outputs": []
    },
    {
      "cell_type": "markdown",
      "source": [
        "There are 3 methods in dictionary: keys(),values(),items()"
      ],
      "metadata": {
        "id": "MWSm-TaJj59w"
      }
    },
    {
      "cell_type": "code",
      "source": [
        "book = {1:\"a\",2:\"b\",3:\"c\"}\n",
        "book[4]=\"d\"\n",
        "for i in book.values(): #values() method\n",
        "  print(i)"
      ],
      "metadata": {
        "colab": {
          "base_uri": "https://localhost:8080/"
        },
        "id": "CO1mOZnSjmIR",
        "outputId": "979aaaf8-6996-4c1b-b3ac-2ffbdf717694"
      },
      "execution_count": null,
      "outputs": [
        {
          "output_type": "stream",
          "name": "stdout",
          "text": [
            "a\n",
            "b\n",
            "c\n",
            "d\n"
          ]
        }
      ]
    },
    {
      "cell_type": "code",
      "source": [
        "for n in book.keys():\n",
        "  print(n)"
      ],
      "metadata": {
        "colab": {
          "base_uri": "https://localhost:8080/"
        },
        "id": "oOIsaCCRlVSl",
        "outputId": "a29af2cf-36e2-4064-99e7-25066f9a59ed"
      },
      "execution_count": null,
      "outputs": [
        {
          "output_type": "stream",
          "name": "stdout",
          "text": [
            "1\n",
            "2\n",
            "3\n",
            "4\n"
          ]
        }
      ]
    },
    {
      "cell_type": "code",
      "source": [
        "for j in book.items():\n",
        "  print(j)"
      ],
      "metadata": {
        "colab": {
          "base_uri": "https://localhost:8080/"
        },
        "id": "hMcw4VtSlkQz",
        "outputId": "0bec55ae-bc95-4f62-dd45-732e101e3f5c"
      },
      "execution_count": null,
      "outputs": [
        {
          "output_type": "stream",
          "name": "stdout",
          "text": [
            "(1, 'a')\n",
            "(2, 'b')\n",
            "(3, 'c')\n",
            "(4, 'd')\n"
          ]
        }
      ]
    },
    {
      "cell_type": "code",
      "source": [
        "items = list(book.items())\n",
        "\n",
        "items[0][1]"
      ],
      "metadata": {
        "colab": {
          "base_uri": "https://localhost:8080/",
          "height": 35
        },
        "id": "PacMqp95l_Hf",
        "outputId": "aee6ea92-8bcc-4f39-9b98-5eefb1bb3e8d"
      },
      "execution_count": null,
      "outputs": [
        {
          "output_type": "execute_result",
          "data": {
            "text/plain": [
              "'a'"
            ],
            "application/vnd.google.colaboratory.intrinsic+json": {
              "type": "string"
            }
          },
          "metadata": {},
          "execution_count": 20
        }
      ]
    },
    {
      "cell_type": "markdown",
      "source": [
        "Sets are unordered collection of unique items , defined in a curly braces{}\n",
        "Operations performed are - union,intersection,difference, symmetric difference and others\n",
        "python have all these built-in , via methods or operators"
      ],
      "metadata": {
        "id": "uP9ZpFPltIyO"
      }
    },
    {
      "cell_type": "code",
      "source": [
        "# sets\n",
        "even = {2,4,6,8,10}\n",
        "prime = {2,3,5,7}\n",
        "odd = {1,3,5,7,11}"
      ],
      "metadata": {
        "id": "_OvmbxYas82C"
      },
      "execution_count": null,
      "outputs": []
    },
    {
      "cell_type": "code",
      "source": [
        "# union operation using operator\n",
        "even | odd"
      ],
      "metadata": {
        "colab": {
          "base_uri": "https://localhost:8080/"
        },
        "id": "_jBxzdplu1Cg",
        "outputId": "cc97c7df-995d-4ca8-875b-1ba61c36877b"
      },
      "execution_count": null,
      "outputs": [
        {
          "output_type": "execute_result",
          "data": {
            "text/plain": [
              "{1, 2, 3, 4, 5, 6, 7, 8, 10, 11}"
            ]
          },
          "metadata": {},
          "execution_count": 26
        }
      ]
    },
    {
      "cell_type": "code",
      "source": [
        "# union operation using .union() method"
      ],
      "metadata": {
        "id": "ZDoFbSPjvIZV"
      },
      "execution_count": null,
      "outputs": []
    },
    {
      "cell_type": "code",
      "source": [
        "even.union(odd)"
      ],
      "metadata": {
        "colab": {
          "base_uri": "https://localhost:8080/"
        },
        "id": "tt6_rqChvRkX",
        "outputId": "dcc98e0a-15bf-4875-9df7-839db60e2389"
      },
      "execution_count": null,
      "outputs": [
        {
          "output_type": "execute_result",
          "data": {
            "text/plain": [
              "{1, 2, 3, 4, 5, 6, 7, 8, 10, 11}"
            ]
          },
          "metadata": {},
          "execution_count": 24
        }
      ]
    },
    {
      "cell_type": "code",
      "source": [
        "# Intersection using operator\n",
        "prime & odd\n"
      ],
      "metadata": {
        "colab": {
          "base_uri": "https://localhost:8080/"
        },
        "id": "6Oi_P6p-vXFJ",
        "outputId": "c06e976e-86ee-4268-dd74-485ae27a0a5c"
      },
      "execution_count": null,
      "outputs": [
        {
          "output_type": "execute_result",
          "data": {
            "text/plain": [
              "{3, 5, 7}"
            ]
          },
          "metadata": {},
          "execution_count": 31
        }
      ]
    },
    {
      "cell_type": "code",
      "source": [
        "#Intersection using method\n",
        "prime.intersection(odd)"
      ],
      "metadata": {
        "colab": {
          "base_uri": "https://localhost:8080/"
        },
        "id": "qg81ZQ2Nv7B-",
        "outputId": "0de12519-2b72-43ce-888a-3c8d35d97562"
      },
      "execution_count": null,
      "outputs": [
        {
          "output_type": "execute_result",
          "data": {
            "text/plain": [
              "{3, 5, 7}"
            ]
          },
          "metadata": {},
          "execution_count": 32
        }
      ]
    },
    {
      "cell_type": "code",
      "source": [
        "# Difference with operator\n",
        "prime - odd"
      ],
      "metadata": {
        "colab": {
          "base_uri": "https://localhost:8080/"
        },
        "id": "FZn4gAKdwAa6",
        "outputId": "dbb6b11d-e207-431a-83b3-e7fd4e2ceaea"
      },
      "execution_count": null,
      "outputs": [
        {
          "output_type": "execute_result",
          "data": {
            "text/plain": [
              "{2}"
            ]
          },
          "metadata": {},
          "execution_count": 33
        }
      ]
    },
    {
      "cell_type": "code",
      "source": [
        "#Difference with method\n",
        "prime.difference(odd)"
      ],
      "metadata": {
        "colab": {
          "base_uri": "https://localhost:8080/"
        },
        "id": "4Ey4Q-N8wNl_",
        "outputId": "6778981f-4a1c-4cff-9ba2-5d79764e5a02"
      },
      "execution_count": null,
      "outputs": [
        {
          "output_type": "execute_result",
          "data": {
            "text/plain": [
              "{2}"
            ]
          },
          "metadata": {},
          "execution_count": 34
        }
      ]
    },
    {
      "cell_type": "code",
      "source": [
        "#Symmetric difference with operator\n",
        "prime ^ odd"
      ],
      "metadata": {
        "colab": {
          "base_uri": "https://localhost:8080/"
        },
        "id": "bREqAIEvwViv",
        "outputId": "5bba17af-15a0-419b-98cb-6f025a57a374"
      },
      "execution_count": null,
      "outputs": [
        {
          "output_type": "execute_result",
          "data": {
            "text/plain": [
              "{1, 2, 11}"
            ]
          },
          "metadata": {},
          "execution_count": 35
        }
      ]
    },
    {
      "cell_type": "code",
      "source": [
        "#Symmetric difference with method\n",
        "prime.symmetric_difference(odd)"
      ],
      "metadata": {
        "id": "FvC1DVpDweNq",
        "outputId": "3cfd5cb0-10c5-4adb-c452-f7219c3e26d5",
        "colab": {
          "base_uri": "https://localhost:8080/"
        }
      },
      "execution_count": null,
      "outputs": [
        {
          "output_type": "execute_result",
          "data": {
            "text/plain": [
              "{1, 2, 11}"
            ]
          },
          "metadata": {},
          "execution_count": 36
        }
      ]
    }
  ],
  "metadata": {
    "colab": {
      "provenance": [],
      "authorship_tag": "ABX9TyPSW/6JdNumBVWDfRypykuk",
      "include_colab_link": true
    },
    "kernelspec": {
      "display_name": "Python 3",
      "name": "python3"
    },
    "language_info": {
      "name": "python"
    }
  },
  "nbformat": 4,
  "nbformat_minor": 0
}